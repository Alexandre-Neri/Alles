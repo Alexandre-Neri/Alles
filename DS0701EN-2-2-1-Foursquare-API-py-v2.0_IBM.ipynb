{
 "cells": [
  {
   "cell_type": "markdown",
   "metadata": {
    "button": false,
    "new_sheet": false,
    "run_control": {
     "read_only": false
    }
   },
   "source": [
    "<a href=\"https://cognitiveclass.ai\"><img src = \"https://ibm.box.com/shared/static/9gegpsmnsoo25ikkbl4qzlvlyjbgxs5x.png\" width = 400> </a>\n",
    "\n",
    "<h1 align=center><font size = 5>Learning FourSquare API with Python</font></h1>\n"
   ]
  },
  {
   "cell_type": "markdown",
   "metadata": {
    "button": false,
    "new_sheet": false,
    "run_control": {
     "read_only": false
    }
   },
   "source": [
    "\n"
   ]
  },
  {
   "cell_type": "markdown",
   "metadata": {
    "button": false,
    "new_sheet": false,
    "run_control": {
     "read_only": false
    }
   },
   "source": [
    "## Introduction\n",
    "\n",
    "In this lab, you will learn in details how to make calls to the Foursquare API for different purposes. You will learn how to construct a URL to send a request to the API to search for a specific type of venues, to explore a particular venue, to explore a Foursquare user, to explore a geographical location, and to get trending venues around a location. Also, you will learn how to use the visualization library, Folium, to visualize the results.\n"
   ]
  },
  {
   "cell_type": "markdown",
   "metadata": {
    "button": false,
    "new_sheet": false,
    "run_control": {
     "read_only": false
    }
   },
   "source": [
    "## Table of Contents\n",
    "\n",
    "1.  <a href=\"#item1\">Foursquare API Search Function</a>\n",
    "2.  <a href=\"#item2\">Explore a Given Venue</a>  \n",
    "3.  <a href=\"#item3\">Explore a User</a>  \n",
    "4.  <a href=\"#item4\">Foursquare API Explore Function</a>  \n",
    "5.  <a href=\"#item5\">Get Trending Venues</a>  \n"
   ]
  },
  {
   "cell_type": "markdown",
   "metadata": {
    "button": false,
    "new_sheet": false,
    "run_control": {
     "read_only": false
    }
   },
   "source": [
    "### Import necessary Libraries\n"
   ]
  },
  {
   "cell_type": "code",
   "execution_count": 1,
   "metadata": {
    "button": false,
    "collapsed": false,
    "jupyter": {
     "outputs_hidden": false
    },
    "new_sheet": false,
    "run_control": {
     "read_only": false
    }
   },
   "outputs": [
    {
     "name": "stdout",
     "output_type": "stream",
     "text": [
      "Collecting geopy\n",
      "\u001b[?25l  Downloading https://files.pythonhosted.org/packages/07/e1/9c72de674d5c2b8fcb0738a5ceeb5424941fefa080bfe4e240d0bacb5a38/geopy-2.0.0-py3-none-any.whl (111kB)\n",
      "\u001b[K     |████████████████████████████████| 112kB 19.4MB/s eta 0:00:01\n",
      "\u001b[?25hCollecting geographiclib<2,>=1.49 (from geopy)\n",
      "  Downloading https://files.pythonhosted.org/packages/8b/62/26ec95a98ba64299163199e95ad1b0e34ad3f4e176e221c40245f211e425/geographiclib-1.50-py3-none-any.whl\n",
      "Installing collected packages: geographiclib, geopy\n",
      "Successfully installed geographiclib-1.50 geopy-2.0.0\n",
      "Requirement already satisfied: folium==0.5.0 in /home/jupyterlab/conda/envs/python/lib/python3.6/site-packages (0.5.0)\n",
      "Requirement already satisfied: branca in /home/jupyterlab/conda/envs/python/lib/python3.6/site-packages (from folium==0.5.0) (0.4.1)\n",
      "Requirement already satisfied: jinja2 in /home/jupyterlab/conda/envs/python/lib/python3.6/site-packages (from folium==0.5.0) (2.11.2)\n",
      "Requirement already satisfied: requests in /home/jupyterlab/conda/envs/python/lib/python3.6/site-packages (from folium==0.5.0) (2.24.0)\n",
      "Requirement already satisfied: six in /home/jupyterlab/conda/envs/python/lib/python3.6/site-packages (from folium==0.5.0) (1.15.0)\n",
      "Requirement already satisfied: MarkupSafe>=0.23 in /home/jupyterlab/conda/envs/python/lib/python3.6/site-packages (from jinja2->folium==0.5.0) (1.1.1)\n",
      "Requirement already satisfied: idna<3,>=2.5 in /home/jupyterlab/conda/envs/python/lib/python3.6/site-packages (from requests->folium==0.5.0) (2.10)\n",
      "Requirement already satisfied: certifi>=2017.4.17 in /home/jupyterlab/conda/envs/python/lib/python3.6/site-packages (from requests->folium==0.5.0) (2020.6.20)\n",
      "Requirement already satisfied: urllib3!=1.25.0,!=1.25.1,<1.26,>=1.21.1 in /home/jupyterlab/conda/envs/python/lib/python3.6/site-packages (from requests->folium==0.5.0) (1.25.11)\n",
      "Requirement already satisfied: chardet<4,>=3.0.2 in /home/jupyterlab/conda/envs/python/lib/python3.6/site-packages (from requests->folium==0.5.0) (3.0.4)\n",
      "\n",
      "Folium installed\n",
      "Libraries imported.\n"
     ]
    }
   ],
   "source": [
    "import requests # library to handle requests\n",
    "import pandas as pd # library for data analsysis\n",
    "import numpy as np # library to handle data in a vectorized manner\n",
    "import random # library for random number generation\n",
    "\n",
    "\n",
    "!pip install geopy   # geopy is a Python client for several popular geocoding web services\n",
    "from geopy.geocoders import Nominatim #module to convert an address into latitude and longitude values (OpenStreetMap geocoding service)\n",
    "\n",
    "# (from geopy.geocoders import GoogleV3) would be the codeline if we wanted to use Google Maps Platform as geocoding service\n",
    "\n",
    "# libraries for displaying images\n",
    "from IPython.display import Image \n",
    "from IPython.core.display import HTML \n",
    "    \n",
    "# tranforming json file (dict or list) into a pandas dataframe library\n",
    "from pandas.io.json import json_normalize\n",
    "\n",
    "\n",
    "! pip install folium==0.5.0\n",
    "import folium # plotting library\n",
    "\n",
    "print()\n",
    "print('Folium installed')\n",
    "print('Libraries imported.')"
   ]
  },
  {
   "cell_type": "markdown",
   "metadata": {
    "button": false,
    "new_sheet": false,
    "run_control": {
     "read_only": false
    }
   },
   "source": [
    "### Define Foursquare Credentials and Version\n"
   ]
  },
  {
   "cell_type": "markdown",
   "metadata": {
    "button": false,
    "new_sheet": false,
    "run_control": {
     "read_only": false
    }
   },
   "source": [
    "##### Make sure that you have created a Foursquare developer account and have your credentials handy\n"
   ]
  },
  {
   "cell_type": "code",
   "execution_count": 2,
   "metadata": {
    "button": false,
    "collapsed": false,
    "jupyter": {
     "outputs_hidden": false
    },
    "new_sheet": false,
    "run_control": {
     "read_only": false
    }
   },
   "outputs": [
    {
     "name": "stdout",
     "output_type": "stream",
     "text": [
      "Your credentails:\n",
      "CLIENT_ID: 113ZWQSUYLUGMKP51IRZVZRVDHJBACXCYTXIXGD5GM5PVO5B\n",
      "CLIENT_SECRET:5QXPGLDYT1SVGN3FVVLMZEV0EKJMYPMJNMJAMF2X3ZZEW0SP\n"
     ]
    }
   ],
   "source": [
    "CLIENT_ID = '113ZWQSUYLUGMKP51IRZVZRVDHJBACXCYTXIXGD5GM5PVO5B' # your Foursquare ID\n",
    "CLIENT_SECRET = '5QXPGLDYT1SVGN3FVVLMZEV0EKJMYPMJNMJAMF2X3ZZEW0SP' # your Foursquare Secret\n",
    "VERSION = '20180604'\n",
    "LIMIT = 30\n",
    "print('Your credentails:')\n",
    "print('CLIENT_ID: ' + CLIENT_ID)\n",
    "print('CLIENT_SECRET:' + CLIENT_SECRET)"
   ]
  },
  {
   "cell_type": "markdown",
   "metadata": {
    "button": false,
    "new_sheet": false,
    "run_control": {
     "read_only": false
    }
   },
   "source": [
    "\n"
   ]
  },
  {
   "cell_type": "markdown",
   "metadata": {
    "button": false,
    "new_sheet": false,
    "run_control": {
     "read_only": false
    }
   },
   "source": [
    "#### Let's again assume that you are staying at the Conrad Hotel.\n",
    "##### So let's get started by converting the Conrad Hotel's address to its latitude and longitude coordinates.\n"
   ]
  },
  {
   "cell_type": "markdown",
   "metadata": {},
   "source": [
    "In order to define an instance of the geocoder, we need to define a user_agent. We will name our agent ** <em>foursquare_agent</em> **, as shown below.It could be any name, but it is not advisable to go on with a generic 'user_agent'. In other words, we need to create an object-instance to make good use of all methods of a Class. The syntax below is pretty straightforward and defined by \"https://geopy.readthedocs.io/en/stable/#module-geopy.geocoders\".\n"
   ]
  },
  {
   "cell_type": "code",
   "execution_count": 3,
   "metadata": {
    "button": false,
    "collapsed": false,
    "jupyter": {
     "outputs_hidden": false
    },
    "new_sheet": false,
    "run_control": {
     "read_only": false
    }
   },
   "outputs": [
    {
     "name": "stdout",
     "output_type": "stream",
     "text": [
      "<class 'str'>\n",
      "\n",
      "<class 'geopy.geocoders.nominatim.Nominatim'>\n",
      "\n",
      "40.7149555 -74.0153365\n",
      "\n",
      "{'place_id': 59325501, 'licence': 'Data © OpenStreetMap contributors, ODbL 1.0. https://osm.org/copyright', 'osm_type': 'node', 'osm_id': 4957663866, 'boundingbox': ['40.7149055', '40.7150055', '-74.0153865', '-74.0152865'], 'lat': '40.7149555', 'lon': '-74.0153365', 'display_name': 'Loopy Doopy Rooftop Bar, 102, North End Avenue, Battery Park City, Manhattan Community Board 1, Manhattan, New York County, New York, 10282, United States of America', 'class': 'amenity', 'type': 'bar', 'importance': 0.611, 'icon': 'https://nominatim.openstreetmap.org/ui/mapicons//food_bar.p.20.png'}\n",
      "\n",
      "<class 'dict'>\n"
     ]
    }
   ],
   "source": [
    "address = '102 North End Ave, New York, NY' # the hotel address could have been inserted directly as a parameter\n",
    "print(type(address))\n",
    "print()\n",
    "\n",
    "geolocator = Nominatim(user_agent=\"foursquare_agent\") # documentation strongly suggests to define a user_agent (OSM only)\n",
    "print(type(geolocator))\n",
    "print()\n",
    "\n",
    "location = geolocator.geocode(address) # this is the most important line as it defines the location we will be making searches from\n",
    "\n",
    "latitude = location.latitude\n",
    "longitude = location.longitude\n",
    "cru = location.raw                  # this variable brings all OSM parameters about this venue as a dictionary \n",
    "print(latitude, longitude)\n",
    "print()\n",
    "print(cru)\n",
    "print()\n",
    "print(type(cru))"
   ]
  },
  {
   "cell_type": "markdown",
   "metadata": {
    "button": false,
    "new_sheet": false,
    "run_control": {
     "read_only": false
    }
   },
   "source": [
    "\n"
   ]
  },
  {
   "cell_type": "markdown",
   "metadata": {
    "button": false,
    "new_sheet": false,
    "run_control": {
     "read_only": false
    }
   },
   "source": [
    "<a id=\"item1\"></a>\n"
   ]
  },
  {
   "cell_type": "markdown",
   "metadata": {
    "button": false,
    "new_sheet": false,
    "run_control": {
     "read_only": false
    }
   },
   "source": [
    "## 1. Search for a specific venue category\n",
    "\n",
    "> `https://api.foursquare.com/v2/venues/`**search**`?client_id=`**CLIENT_ID**`&client_secret=`**CLIENT_SECRET**`&ll=`**LATITUDE**`,`**LONGITUDE**`&v=`**VERSION**`&query=`**QUERY**`&radius=`**RADIUS**`&limit=`**LIMIT**"
   ]
  },
  {
   "cell_type": "markdown",
   "metadata": {
    "button": false,
    "new_sheet": false,
    "run_control": {
     "read_only": false
    }
   },
   "source": [
    "#### Now, let's assume that it is lunch time, and you are craving Italian food. So, let's define a query to search for Italian food that is within 500 metres from the Conrad Hotel.\n"
   ]
  },
  {
   "cell_type": "code",
   "execution_count": 4,
   "metadata": {
    "button": false,
    "collapsed": false,
    "jupyter": {
     "outputs_hidden": false
    },
    "new_sheet": false,
    "run_control": {
     "read_only": false
    },
    "scrolled": true
   },
   "outputs": [
    {
     "name": "stdout",
     "output_type": "stream",
     "text": [
      "Italian .... OK!\n"
     ]
    }
   ],
   "source": [
    "search_query = 'Italian'\n",
    "radius = 500\n",
    "print(search_query + ' .... OK!')"
   ]
  },
  {
   "cell_type": "markdown",
   "metadata": {
    "button": false,
    "new_sheet": false,
    "run_control": {
     "read_only": false
    }
   },
   "source": [
    "#### Define the corresponding URL\n"
   ]
  },
  {
   "cell_type": "code",
   "execution_count": 5,
   "metadata": {
    "button": false,
    "collapsed": false,
    "jupyter": {
     "outputs_hidden": false
    },
    "new_sheet": false,
    "run_control": {
     "read_only": false
    }
   },
   "outputs": [
    {
     "name": "stdout",
     "output_type": "stream",
     "text": [
      "https://api.foursquare.com/v2/venues/search?client_id=113ZWQSUYLUGMKP51IRZVZRVDHJBACXCYTXIXGD5GM5PVO5B&client_secret=5QXPGLDYT1SVGN3FVVLMZEV0EKJMYPMJNMJAMF2X3ZZEW0SP&ll=40.7149555,-74.0153365&v=20180604&query=Italian&radius=500&limit=30\n",
      "<class 'str'>\n"
     ]
    }
   ],
   "source": [
    "url = 'https://api.foursquare.com/v2/venues/search?client_id={}&client_secret={}&ll={},{}&v={}&query={}&radius={}&limit={}'.format(CLIENT_ID, CLIENT_SECRET, latitude, longitude, VERSION, search_query, radius, LIMIT)\n",
    "print(url)\n",
    "print(type(url))"
   ]
  },
  {
   "cell_type": "markdown",
   "metadata": {
    "button": false,
    "new_sheet": false,
    "run_control": {
     "read_only": false
    }
   },
   "source": [
    "#### Send the GET Request and examine the results\n",
    "</p> The get() method sends a GET request to the specified url. It makes a request to a web page, and return the status code which can be a json file for example."
   ]
  },
  {
   "cell_type": "code",
   "execution_count": 6,
   "metadata": {
    "button": false,
    "collapsed": false,
    "jupyter": {
     "outputs_hidden": false
    },
    "new_sheet": false,
    "run_control": {
     "read_only": false
    },
    "scrolled": true
   },
   "outputs": [
    {
     "data": {
      "text/plain": [
       "{'meta': {'code': 200, 'requestId': '5fbfaa015f561c659f5fd003'},\n",
       " 'response': {'venues': [{'id': '4fa862b3e4b0ebff2f749f06',\n",
       "    'name': \"Harry's Italian Pizza Bar\",\n",
       "    'location': {'address': '225 Murray St',\n",
       "     'lat': 40.71521779064671,\n",
       "     'lng': -74.01473940209351,\n",
       "     'labeledLatLngs': [{'label': 'display',\n",
       "       'lat': 40.71521779064671,\n",
       "       'lng': -74.01473940209351},\n",
       "      {'label': 'entrance', 'lat': 40.715361, 'lng': -74.014975}],\n",
       "     'distance': 58,\n",
       "     'postalCode': '10282',\n",
       "     'cc': 'US',\n",
       "     'city': 'New York',\n",
       "     'state': 'NY',\n",
       "     'country': 'United States',\n",
       "     'formattedAddress': ['225 Murray St',\n",
       "      'New York, NY 10282',\n",
       "      'United States']},\n",
       "    'categories': [{'id': '4bf58dd8d48988d1ca941735',\n",
       "      'name': 'Pizza Place',\n",
       "      'pluralName': 'Pizza Places',\n",
       "      'shortName': 'Pizza',\n",
       "      'icon': {'prefix': 'https://ss3.4sqi.net/img/categories_v2/food/pizza_',\n",
       "       'suffix': '.png'},\n",
       "      'primary': True}],\n",
       "    'referralId': 'v-1606396417',\n",
       "    'hasPerk': False},\n",
       "   {'id': '4f3232e219836c91c7bfde94',\n",
       "    'name': 'Conca Cucina Italian Restaurant',\n",
       "    'location': {'address': '63 W Broadway',\n",
       "     'lat': 40.714484000000006,\n",
       "     'lng': -74.00980600000001,\n",
       "     'labeledLatLngs': [{'label': 'display',\n",
       "       'lat': 40.714484000000006,\n",
       "       'lng': -74.00980600000001}],\n",
       "     'distance': 469,\n",
       "     'postalCode': '10007',\n",
       "     'cc': 'US',\n",
       "     'city': 'New York',\n",
       "     'state': 'NY',\n",
       "     'country': 'United States',\n",
       "     'formattedAddress': ['63 W Broadway',\n",
       "      'New York, NY 10007',\n",
       "      'United States']},\n",
       "    'categories': [{'id': '4d4b7105d754a06374d81259',\n",
       "      'name': 'Food',\n",
       "      'pluralName': 'Food',\n",
       "      'shortName': 'Food',\n",
       "      'icon': {'prefix': 'https://ss3.4sqi.net/img/categories_v2/food/default_',\n",
       "       'suffix': '.png'},\n",
       "      'primary': True}],\n",
       "    'referralId': 'v-1606396417',\n",
       "    'hasPerk': False},\n",
       "   {'id': '3fd66200f964a520f4e41ee3',\n",
       "    'name': 'Ecco',\n",
       "    'location': {'address': '124 Chambers St',\n",
       "     'crossStreet': 'btwn Church St & W Broadway',\n",
       "     'lat': 40.71533713859952,\n",
       "     'lng': -74.00884766217825,\n",
       "     'labeledLatLngs': [{'label': 'display',\n",
       "       'lat': 40.71533713859952,\n",
       "       'lng': -74.00884766217825},\n",
       "      {'label': 'entrance', 'lat': 40.715202, 'lng': -74.008779}],\n",
       "     'distance': 549,\n",
       "     'postalCode': '10007',\n",
       "     'cc': 'US',\n",
       "     'city': 'New York',\n",
       "     'state': 'NY',\n",
       "     'country': 'United States',\n",
       "     'formattedAddress': ['124 Chambers St (btwn Church St & W Broadway)',\n",
       "      'New York, NY 10007',\n",
       "      'United States']},\n",
       "    'categories': [{'id': '4bf58dd8d48988d110941735',\n",
       "      'name': 'Italian Restaurant',\n",
       "      'pluralName': 'Italian Restaurants',\n",
       "      'shortName': 'Italian',\n",
       "      'icon': {'prefix': 'https://ss3.4sqi.net/img/categories_v2/food/italian_',\n",
       "       'suffix': '.png'},\n",
       "      'primary': True}],\n",
       "    'referralId': 'v-1606396417',\n",
       "    'hasPerk': False}]}}"
      ]
     },
     "execution_count": 6,
     "metadata": {},
     "output_type": "execute_result"
    }
   ],
   "source": [
    "results = requests.get(url).json()\n",
    "results"
   ]
  },
  {
   "cell_type": "code",
   "execution_count": 7,
   "metadata": {},
   "outputs": [
    {
     "data": {
      "text/plain": [
       "dict"
      ]
     },
     "execution_count": 7,
     "metadata": {},
     "output_type": "execute_result"
    }
   ],
   "source": [
    "type(results)"
   ]
  },
  {
   "cell_type": "code",
   "execution_count": 8,
   "metadata": {},
   "outputs": [
    {
     "data": {
      "text/plain": [
       "['meta', 'response']"
      ]
     },
     "execution_count": 8,
     "metadata": {},
     "output_type": "execute_result"
    }
   ],
   "source": [
    "list(results.keys())"
   ]
  },
  {
   "cell_type": "code",
   "execution_count": 19,
   "metadata": {},
   "outputs": [],
   "source": [
    "# list(results.values())"
   ]
  },
  {
   "cell_type": "markdown",
   "metadata": {},
   "source": [
    "Right now, taking into account that this Lab Session is a learning session, it is fair to explore the very nature of what **\"results\"**  is:\n",
    "</p> a) **Results** is a Dictionary that displays two keys only (meta and response);\n",
    "</p> b) However, some of these 2 keys' values are also dictionaries on their own, for example, meta itself;\n",
    "</p> c)  Within these \"inner\" dictionaries, there are other dictionaires as well, for example, response is followed by\"{'venues': [{'id': '4fa862b3e4b0ebff2f749f06','name': \"Harry's Italian Pizza Bar\",    'location': {'address': '225 Murray St'.......etc"
   ]
  },
  {
   "cell_type": "markdown",
   "metadata": {
    "button": false,
    "new_sheet": false,
    "run_control": {
     "read_only": false
    }
   },
   "source": [
    "#### Get relevant part of JSON and transform it into a _pandas_ dataframe\n",
    "</p> The first key (meta) displays data not required to the next steps (200 means process worked (opposite is 404) and the other is just request identification).\n",
    "</p> The information we need to extract from the huge output-dictionary as result of the query (search) are contained in the key 'response' and \"sub-key\" venue."
   ]
  },
  {
   "cell_type": "code",
   "execution_count": 9,
   "metadata": {
    "button": false,
    "collapsed": false,
    "jupyter": {
     "outputs_hidden": false
    },
    "new_sheet": false,
    "run_control": {
     "read_only": false
    }
   },
   "outputs": [
    {
     "name": "stdout",
     "output_type": "stream",
     "text": [
      "<class 'list'>\n",
      "\n",
      "[{'id': '4fa862b3e4b0ebff2f749f06', 'name': \"Harry's Italian Pizza Bar\", 'location': {'address': '225 Murray St', 'lat': 40.71521779064671, 'lng': -74.01473940209351, 'labeledLatLngs': [{'label': 'display', 'lat': 40.71521779064671, 'lng': -74.01473940209351}, {'label': 'entrance', 'lat': 40.715361, 'lng': -74.014975}], 'distance': 58, 'postalCode': '10282', 'cc': 'US', 'city': 'New York', 'state': 'NY', 'country': 'United States', 'formattedAddress': ['225 Murray St', 'New York, NY 10282', 'United States']}, 'categories': [{'id': '4bf58dd8d48988d1ca941735', 'name': 'Pizza Place', 'pluralName': 'Pizza Places', 'shortName': 'Pizza', 'icon': {'prefix': 'https://ss3.4sqi.net/img/categories_v2/food/pizza_', 'suffix': '.png'}, 'primary': True}], 'referralId': 'v-1606396417', 'hasPerk': False}, {'id': '4f3232e219836c91c7bfde94', 'name': 'Conca Cucina Italian Restaurant', 'location': {'address': '63 W Broadway', 'lat': 40.714484000000006, 'lng': -74.00980600000001, 'labeledLatLngs': [{'label': 'display', 'lat': 40.714484000000006, 'lng': -74.00980600000001}], 'distance': 469, 'postalCode': '10007', 'cc': 'US', 'city': 'New York', 'state': 'NY', 'country': 'United States', 'formattedAddress': ['63 W Broadway', 'New York, NY 10007', 'United States']}, 'categories': [{'id': '4d4b7105d754a06374d81259', 'name': 'Food', 'pluralName': 'Food', 'shortName': 'Food', 'icon': {'prefix': 'https://ss3.4sqi.net/img/categories_v2/food/default_', 'suffix': '.png'}, 'primary': True}], 'referralId': 'v-1606396417', 'hasPerk': False}, {'id': '3fd66200f964a520f4e41ee3', 'name': 'Ecco', 'location': {'address': '124 Chambers St', 'crossStreet': 'btwn Church St & W Broadway', 'lat': 40.71533713859952, 'lng': -74.00884766217825, 'labeledLatLngs': [{'label': 'display', 'lat': 40.71533713859952, 'lng': -74.00884766217825}, {'label': 'entrance', 'lat': 40.715202, 'lng': -74.008779}], 'distance': 549, 'postalCode': '10007', 'cc': 'US', 'city': 'New York', 'state': 'NY', 'country': 'United States', 'formattedAddress': ['124 Chambers St (btwn Church St & W Broadway)', 'New York, NY 10007', 'United States']}, 'categories': [{'id': '4bf58dd8d48988d110941735', 'name': 'Italian Restaurant', 'pluralName': 'Italian Restaurants', 'shortName': 'Italian', 'icon': {'prefix': 'https://ss3.4sqi.net/img/categories_v2/food/italian_', 'suffix': '.png'}, 'primary': True}], 'referralId': 'v-1606396417', 'hasPerk': False}]\n",
      "\n"
     ]
    },
    {
     "name": "stderr",
     "output_type": "stream",
     "text": [
      "/home/jupyterlab/conda/envs/python/lib/python3.6/site-packages/ipykernel_launcher.py:9: FutureWarning: pandas.io.json.json_normalize is deprecated, use pandas.json_normalize instead\n",
      "  if __name__ == '__main__':\n"
     ]
    },
    {
     "data": {
      "text/html": [
       "<div>\n",
       "<style scoped>\n",
       "    .dataframe tbody tr th:only-of-type {\n",
       "        vertical-align: middle;\n",
       "    }\n",
       "\n",
       "    .dataframe tbody tr th {\n",
       "        vertical-align: top;\n",
       "    }\n",
       "\n",
       "    .dataframe thead th {\n",
       "        text-align: right;\n",
       "    }\n",
       "</style>\n",
       "<table border=\"1\" class=\"dataframe\">\n",
       "  <thead>\n",
       "    <tr style=\"text-align: right;\">\n",
       "      <th></th>\n",
       "      <th>id</th>\n",
       "      <th>name</th>\n",
       "      <th>categories</th>\n",
       "      <th>referralId</th>\n",
       "      <th>hasPerk</th>\n",
       "      <th>location.address</th>\n",
       "      <th>location.lat</th>\n",
       "      <th>location.lng</th>\n",
       "      <th>location.labeledLatLngs</th>\n",
       "      <th>location.distance</th>\n",
       "      <th>location.postalCode</th>\n",
       "      <th>location.cc</th>\n",
       "      <th>location.city</th>\n",
       "      <th>location.state</th>\n",
       "      <th>location.country</th>\n",
       "      <th>location.formattedAddress</th>\n",
       "      <th>location.crossStreet</th>\n",
       "    </tr>\n",
       "  </thead>\n",
       "  <tbody>\n",
       "    <tr>\n",
       "      <th>0</th>\n",
       "      <td>4fa862b3e4b0ebff2f749f06</td>\n",
       "      <td>Harry's Italian Pizza Bar</td>\n",
       "      <td>[{'id': '4bf58dd8d48988d1ca941735', 'name': 'P...</td>\n",
       "      <td>v-1606396417</td>\n",
       "      <td>False</td>\n",
       "      <td>225 Murray St</td>\n",
       "      <td>40.715218</td>\n",
       "      <td>-74.014739</td>\n",
       "      <td>[{'label': 'display', 'lat': 40.71521779064671...</td>\n",
       "      <td>58</td>\n",
       "      <td>10282</td>\n",
       "      <td>US</td>\n",
       "      <td>New York</td>\n",
       "      <td>NY</td>\n",
       "      <td>United States</td>\n",
       "      <td>[225 Murray St, New York, NY 10282, United Sta...</td>\n",
       "      <td>NaN</td>\n",
       "    </tr>\n",
       "    <tr>\n",
       "      <th>1</th>\n",
       "      <td>4f3232e219836c91c7bfde94</td>\n",
       "      <td>Conca Cucina Italian Restaurant</td>\n",
       "      <td>[{'id': '4d4b7105d754a06374d81259', 'name': 'F...</td>\n",
       "      <td>v-1606396417</td>\n",
       "      <td>False</td>\n",
       "      <td>63 W Broadway</td>\n",
       "      <td>40.714484</td>\n",
       "      <td>-74.009806</td>\n",
       "      <td>[{'label': 'display', 'lat': 40.71448400000000...</td>\n",
       "      <td>469</td>\n",
       "      <td>10007</td>\n",
       "      <td>US</td>\n",
       "      <td>New York</td>\n",
       "      <td>NY</td>\n",
       "      <td>United States</td>\n",
       "      <td>[63 W Broadway, New York, NY 10007, United Sta...</td>\n",
       "      <td>NaN</td>\n",
       "    </tr>\n",
       "    <tr>\n",
       "      <th>2</th>\n",
       "      <td>3fd66200f964a520f4e41ee3</td>\n",
       "      <td>Ecco</td>\n",
       "      <td>[{'id': '4bf58dd8d48988d110941735', 'name': 'I...</td>\n",
       "      <td>v-1606396417</td>\n",
       "      <td>False</td>\n",
       "      <td>124 Chambers St</td>\n",
       "      <td>40.715337</td>\n",
       "      <td>-74.008848</td>\n",
       "      <td>[{'label': 'display', 'lat': 40.71533713859952...</td>\n",
       "      <td>549</td>\n",
       "      <td>10007</td>\n",
       "      <td>US</td>\n",
       "      <td>New York</td>\n",
       "      <td>NY</td>\n",
       "      <td>United States</td>\n",
       "      <td>[124 Chambers St (btwn Church St &amp; W Broadway)...</td>\n",
       "      <td>btwn Church St &amp; W Broadway</td>\n",
       "    </tr>\n",
       "  </tbody>\n",
       "</table>\n",
       "</div>"
      ],
      "text/plain": [
       "                         id                             name  \\\n",
       "0  4fa862b3e4b0ebff2f749f06        Harry's Italian Pizza Bar   \n",
       "1  4f3232e219836c91c7bfde94  Conca Cucina Italian Restaurant   \n",
       "2  3fd66200f964a520f4e41ee3                             Ecco   \n",
       "\n",
       "                                          categories    referralId  hasPerk  \\\n",
       "0  [{'id': '4bf58dd8d48988d1ca941735', 'name': 'P...  v-1606396417    False   \n",
       "1  [{'id': '4d4b7105d754a06374d81259', 'name': 'F...  v-1606396417    False   \n",
       "2  [{'id': '4bf58dd8d48988d110941735', 'name': 'I...  v-1606396417    False   \n",
       "\n",
       "  location.address  location.lat  location.lng  \\\n",
       "0    225 Murray St     40.715218    -74.014739   \n",
       "1    63 W Broadway     40.714484    -74.009806   \n",
       "2  124 Chambers St     40.715337    -74.008848   \n",
       "\n",
       "                             location.labeledLatLngs  location.distance  \\\n",
       "0  [{'label': 'display', 'lat': 40.71521779064671...                 58   \n",
       "1  [{'label': 'display', 'lat': 40.71448400000000...                469   \n",
       "2  [{'label': 'display', 'lat': 40.71533713859952...                549   \n",
       "\n",
       "  location.postalCode location.cc location.city location.state  \\\n",
       "0               10282          US      New York             NY   \n",
       "1               10007          US      New York             NY   \n",
       "2               10007          US      New York             NY   \n",
       "\n",
       "  location.country                          location.formattedAddress  \\\n",
       "0    United States  [225 Murray St, New York, NY 10282, United Sta...   \n",
       "1    United States  [63 W Broadway, New York, NY 10007, United Sta...   \n",
       "2    United States  [124 Chambers St (btwn Church St & W Broadway)...   \n",
       "\n",
       "          location.crossStreet  \n",
       "0                          NaN  \n",
       "1                          NaN  \n",
       "2  btwn Church St & W Broadway  "
      ]
     },
     "execution_count": 9,
     "metadata": {},
     "output_type": "execute_result"
    }
   ],
   "source": [
    "# assign relevant part of JSON to venues\n",
    "venues = results['response']['venues']\n",
    "print(type(venues))\n",
    "print()\n",
    "print(venues)\n",
    "print()\n",
    "\n",
    "# tranform venues into a dataframe\n",
    "dataframe = json_normalize(venues)\n",
    "dataframe.head()"
   ]
  },
  {
   "cell_type": "code",
   "execution_count": 10,
   "metadata": {},
   "outputs": [
    {
     "data": {
      "text/plain": [
       "(3, 17)"
      ]
     },
     "execution_count": 10,
     "metadata": {},
     "output_type": "execute_result"
    }
   ],
   "source": [
    "dataframe.shape"
   ]
  },
  {
   "cell_type": "markdown",
   "metadata": {},
   "source": [
    "**Very Important Note:**\n",
    "A test aimed at better understanding **results** structure can be performed by defining limit=100 in order to select only the 1st restaurant. After running the query and taking a close look at the dictionary, one will realize that:\n",
    "</p> 1) Venues (first key of Response) is by itself another dictionary with 6 keys;\n",
    "</p> 2) Out of these 6 keys, 5 are displayed as the 5 first columns of the dataframe;\n",
    "</p> 3) The remaining key (location) is splitted into 12 columns because it is also a dictionary but with 12 keys."
   ]
  },
  {
   "cell_type": "markdown",
   "metadata": {
    "button": false,
    "new_sheet": false,
    "run_control": {
     "read_only": false
    }
   },
   "source": [
    "#### Define information of interest and filter dataframe\n"
   ]
  },
  {
   "cell_type": "code",
   "execution_count": 11,
   "metadata": {},
   "outputs": [
    {
     "name": "stdout",
     "output_type": "stream",
     "text": [
      "0\n",
      "['name', 'categories', 'location.address', 'location.lat', 'location.lng', 'location.labeledLatLngs', 'location.distance', 'location.postalCode', 'location.cc', 'location.city', 'location.state', 'location.country', 'location.formattedAddress', 'location.crossStreet', 'id']\n"
     ]
    },
    {
     "data": {
      "text/plain": [
       "list"
      ]
     },
     "execution_count": 11,
     "metadata": {},
     "output_type": "execute_result"
    }
   ],
   "source": [
    "col=0\n",
    "filtered_columns = ['name', 'categories'] + [col for col in dataframe.columns if col.startswith('location.')] + ['id']\n",
    "print(col)\n",
    "print(filtered_columns)\n",
    "type(filtered_columns)"
   ]
  },
  {
   "cell_type": "code",
   "execution_count": 12,
   "metadata": {
    "button": false,
    "collapsed": false,
    "jupyter": {
     "outputs_hidden": false
    },
    "new_sheet": false,
    "run_control": {
     "read_only": false
    },
    "scrolled": true
   },
   "outputs": [
    {
     "data": {
      "text/html": [
       "<div>\n",
       "<style scoped>\n",
       "    .dataframe tbody tr th:only-of-type {\n",
       "        vertical-align: middle;\n",
       "    }\n",
       "\n",
       "    .dataframe tbody tr th {\n",
       "        vertical-align: top;\n",
       "    }\n",
       "\n",
       "    .dataframe thead th {\n",
       "        text-align: right;\n",
       "    }\n",
       "</style>\n",
       "<table border=\"1\" class=\"dataframe\">\n",
       "  <thead>\n",
       "    <tr style=\"text-align: right;\">\n",
       "      <th></th>\n",
       "      <th>name</th>\n",
       "      <th>categories</th>\n",
       "      <th>address</th>\n",
       "      <th>lat</th>\n",
       "      <th>lng</th>\n",
       "      <th>labeledLatLngs</th>\n",
       "      <th>distance</th>\n",
       "      <th>postalCode</th>\n",
       "      <th>cc</th>\n",
       "      <th>city</th>\n",
       "      <th>state</th>\n",
       "      <th>country</th>\n",
       "      <th>formattedAddress</th>\n",
       "      <th>crossStreet</th>\n",
       "      <th>id</th>\n",
       "    </tr>\n",
       "  </thead>\n",
       "  <tbody>\n",
       "    <tr>\n",
       "      <th>0</th>\n",
       "      <td>Harry's Italian Pizza Bar</td>\n",
       "      <td>Pizza Place</td>\n",
       "      <td>225 Murray St</td>\n",
       "      <td>40.715218</td>\n",
       "      <td>-74.014739</td>\n",
       "      <td>[{'label': 'display', 'lat': 40.71521779064671...</td>\n",
       "      <td>58</td>\n",
       "      <td>10282</td>\n",
       "      <td>US</td>\n",
       "      <td>New York</td>\n",
       "      <td>NY</td>\n",
       "      <td>United States</td>\n",
       "      <td>[225 Murray St, New York, NY 10282, United Sta...</td>\n",
       "      <td>NaN</td>\n",
       "      <td>4fa862b3e4b0ebff2f749f06</td>\n",
       "    </tr>\n",
       "    <tr>\n",
       "      <th>1</th>\n",
       "      <td>Conca Cucina Italian Restaurant</td>\n",
       "      <td>Food</td>\n",
       "      <td>63 W Broadway</td>\n",
       "      <td>40.714484</td>\n",
       "      <td>-74.009806</td>\n",
       "      <td>[{'label': 'display', 'lat': 40.71448400000000...</td>\n",
       "      <td>469</td>\n",
       "      <td>10007</td>\n",
       "      <td>US</td>\n",
       "      <td>New York</td>\n",
       "      <td>NY</td>\n",
       "      <td>United States</td>\n",
       "      <td>[63 W Broadway, New York, NY 10007, United Sta...</td>\n",
       "      <td>NaN</td>\n",
       "      <td>4f3232e219836c91c7bfde94</td>\n",
       "    </tr>\n",
       "    <tr>\n",
       "      <th>2</th>\n",
       "      <td>Ecco</td>\n",
       "      <td>Italian Restaurant</td>\n",
       "      <td>124 Chambers St</td>\n",
       "      <td>40.715337</td>\n",
       "      <td>-74.008848</td>\n",
       "      <td>[{'label': 'display', 'lat': 40.71533713859952...</td>\n",
       "      <td>549</td>\n",
       "      <td>10007</td>\n",
       "      <td>US</td>\n",
       "      <td>New York</td>\n",
       "      <td>NY</td>\n",
       "      <td>United States</td>\n",
       "      <td>[124 Chambers St (btwn Church St &amp; W Broadway)...</td>\n",
       "      <td>btwn Church St &amp; W Broadway</td>\n",
       "      <td>3fd66200f964a520f4e41ee3</td>\n",
       "    </tr>\n",
       "  </tbody>\n",
       "</table>\n",
       "</div>"
      ],
      "text/plain": [
       "                              name          categories          address  \\\n",
       "0        Harry's Italian Pizza Bar         Pizza Place    225 Murray St   \n",
       "1  Conca Cucina Italian Restaurant                Food    63 W Broadway   \n",
       "2                             Ecco  Italian Restaurant  124 Chambers St   \n",
       "\n",
       "         lat        lng                                     labeledLatLngs  \\\n",
       "0  40.715218 -74.014739  [{'label': 'display', 'lat': 40.71521779064671...   \n",
       "1  40.714484 -74.009806  [{'label': 'display', 'lat': 40.71448400000000...   \n",
       "2  40.715337 -74.008848  [{'label': 'display', 'lat': 40.71533713859952...   \n",
       "\n",
       "   distance postalCode  cc      city state        country  \\\n",
       "0        58      10282  US  New York    NY  United States   \n",
       "1       469      10007  US  New York    NY  United States   \n",
       "2       549      10007  US  New York    NY  United States   \n",
       "\n",
       "                                    formattedAddress  \\\n",
       "0  [225 Murray St, New York, NY 10282, United Sta...   \n",
       "1  [63 W Broadway, New York, NY 10007, United Sta...   \n",
       "2  [124 Chambers St (btwn Church St & W Broadway)...   \n",
       "\n",
       "                   crossStreet                        id  \n",
       "0                          NaN  4fa862b3e4b0ebff2f749f06  \n",
       "1                          NaN  4f3232e219836c91c7bfde94  \n",
       "2  btwn Church St & W Broadway  3fd66200f964a520f4e41ee3  "
      ]
     },
     "execution_count": 12,
     "metadata": {},
     "output_type": "execute_result"
    }
   ],
   "source": [
    "# keep only columns that include venue name, and anything that is associated with location\n",
    "filtered_columns = ['name', 'categories'] + [col for col in dataframe.columns if col.startswith('location.')] + ['id']\n",
    "dataframe_filtered = dataframe.loc[:, filtered_columns] #Access a group of rows and columns by label(s) or a boolean array.\n",
    "\n",
    "# function that extracts the category of the venue because 'categories' is a list with a dictionary whose sole info of interest is name\n",
    "def get_category_type(row):\n",
    "    try:\n",
    "        categories_list = row['categories']\n",
    "    except:\n",
    "        categories_list = row['venue.categories']\n",
    "        \n",
    "    if len(categories_list) == 0:\n",
    "        return None\n",
    "    else:\n",
    "        return categories_list[0]['name']\n",
    "\n",
    "# filter the category for each row\n",
    "dataframe_filtered['categories'] = dataframe_filtered.apply(get_category_type, axis=1)\n",
    "\n",
    "# clean column names by keeping only last term\n",
    "dataframe_filtered.columns = [column.split('.')[-1] for column in dataframe_filtered.columns] #split at '.' & gets last-right term [-1]\n",
    "\n",
    "dataframe_filtered"
   ]
  },
  {
   "cell_type": "code",
   "execution_count": 13,
   "metadata": {},
   "outputs": [
    {
     "data": {
      "text/plain": [
       "(3, 15)"
      ]
     },
     "execution_count": 13,
     "metadata": {},
     "output_type": "execute_result"
    }
   ],
   "source": [
    "dataframe_filtered.shape"
   ]
  },
  {
   "cell_type": "markdown",
   "metadata": {},
   "source": [
    "All this code eliminated two columns, renamed the remaining ones and extracted the info 'name' from a dict-inside-list associated with 'categories' Column. Categories is important as it is a keyword for searches (\"Italian\", etc)."
   ]
  },
  {
   "cell_type": "markdown",
   "metadata": {
    "button": false,
    "new_sheet": false,
    "run_control": {
     "read_only": false
    }
   },
   "source": [
    "#### Let's visualize the Italian restaurants that are nearby\n"
   ]
  },
  {
   "cell_type": "code",
   "execution_count": 14,
   "metadata": {
    "button": false,
    "collapsed": false,
    "jupyter": {
     "outputs_hidden": false
    },
    "new_sheet": false,
    "run_control": {
     "read_only": false
    }
   },
   "outputs": [
    {
     "data": {
      "text/plain": [
       "0          Harry's Italian Pizza Bar\n",
       "1    Conca Cucina Italian Restaurant\n",
       "2                               Ecco\n",
       "Name: name, dtype: object"
      ]
     },
     "execution_count": 14,
     "metadata": {},
     "output_type": "execute_result"
    }
   ],
   "source": [
    "dataframe_filtered.name"
   ]
  },
  {
   "cell_type": "code",
   "execution_count": 15,
   "metadata": {
    "button": false,
    "collapsed": false,
    "jupyter": {
     "outputs_hidden": false
    },
    "new_sheet": false,
    "run_control": {
     "read_only": false
    },
    "scrolled": true
   },
   "outputs": [
    {
     "data": {
      "text/html": [
       "<div style=\"width:100%;\"><div style=\"position:relative;width:100%;height:0;padding-bottom:60%;\"><span style=\"color:#565656\">Make this Notebook Trusted to load map: File -> Trust Notebook</span><iframe src=\"about:blank\" style=\"position:absolute;width:100%;height:100%;left:0;top:0;border:none !important;\" data-html=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 onload=\"this.contentDocument.open();this.contentDocument.write(atob(this.getAttribute('data-html')));this.contentDocument.close();\" allowfullscreen webkitallowfullscreen mozallowfullscreen></iframe></div></div>"
      ],
      "text/plain": [
       "<folium.folium.Map at 0x7fccf07b4940>"
      ]
     },
     "execution_count": 15,
     "metadata": {},
     "output_type": "execute_result"
    }
   ],
   "source": [
    "venues_map = folium.Map(location=[latitude, longitude], zoom_start=13) # generate map centred around the Conrad Hotel. It is an object\n",
    "\n",
    "# add a red circle marker to represent the Conrad Hotel\n",
    "folium.CircleMarker(\n",
    "    [latitude, longitude],\n",
    "    radius=10,\n",
    "    color='red',\n",
    "    popup='Conrad Hotel',\n",
    "    fill = True,\n",
    "    fill_color = 'red',\n",
    "    fill_opacity = 0.6\n",
    ").add_to(venues_map)\n",
    "\n",
    "# add the Italian restaurants as blue circle markers\n",
    "# zip creates a list of tuples as output. in this case (lat, lng, label(categories))\n",
    "for lat, lng, label in zip(dataframe_filtered.lat, dataframe_filtered.lng, dataframe_filtered.categories):\n",
    "    folium.CircleMarker(\n",
    "        [lat, lng],\n",
    "        radius=5,\n",
    "        color='blue',\n",
    "        popup=label,\n",
    "        fill = True,\n",
    "        fill_color='blue',\n",
    "        fill_opacity=0.6\n",
    "    ).add_to(venues_map)\n",
    "\n",
    "# display map\n",
    "venues_map"
   ]
  },
  {
   "cell_type": "markdown",
   "metadata": {
    "button": false,
    "new_sheet": false,
    "run_control": {
     "read_only": false
    }
   },
   "source": [
    "\n"
   ]
  },
  {
   "cell_type": "markdown",
   "metadata": {
    "button": false,
    "new_sheet": false,
    "run_control": {
     "read_only": false
    }
   },
   "source": [
    "<a id=\"item2\"></a>\n"
   ]
  },
  {
   "cell_type": "markdown",
   "metadata": {
    "button": false,
    "new_sheet": false,
    "run_control": {
     "read_only": false
    }
   },
   "source": [
    "## 2. Explore a Given Venue\n",
    "\n",
    "> `https://api.foursquare.com/v2/venues/`**VENUE_ID**`?client_id=`**CLIENT_ID**`&client_secret=`**CLIENT_SECRET**`&v=`**VERSION**\n"
   ]
  },
  {
   "cell_type": "markdown",
   "metadata": {
    "button": false,
    "new_sheet": false,
    "run_control": {
     "read_only": false
    }
   },
   "source": [
    "### A. Let's explore the closest Italian restaurant -- _Harry's Italian Pizza Bar_\n"
   ]
  },
  {
   "cell_type": "code",
   "execution_count": 16,
   "metadata": {
    "button": false,
    "collapsed": false,
    "jupyter": {
     "outputs_hidden": false
    },
    "new_sheet": false,
    "run_control": {
     "read_only": false
    }
   },
   "outputs": [
    {
     "data": {
      "text/plain": [
       "'https://api.foursquare.com/v2/venues/4fa862b3e4b0ebff2f749f06?client_id=113ZWQSUYLUGMKP51IRZVZRVDHJBACXCYTXIXGD5GM5PVO5B&client_secret=5QXPGLDYT1SVGN3FVVLMZEV0EKJMYPMJNMJAMF2X3ZZEW0SP&v=20180604'"
      ]
     },
     "execution_count": 16,
     "metadata": {},
     "output_type": "execute_result"
    }
   ],
   "source": [
    "venue_id1 = '4fa862b3e4b0ebff2f749f06' # ID of Harry's Italian Pizza Bar that can be seen on \"results\" output\n",
    "url1 = 'https://api.foursquare.com/v2/venues/{}?client_id={}&client_secret={}&v={}'.format(venue_id1, CLIENT_ID, CLIENT_SECRET, VERSION)\n",
    "url1"
   ]
  },
  {
   "cell_type": "markdown",
   "metadata": {
    "button": false,
    "new_sheet": false,
    "run_control": {
     "read_only": false
    }
   },
   "source": [
    "#### Send GET request for result\n"
   ]
  },
  {
   "cell_type": "code",
   "execution_count": 17,
   "metadata": {
    "button": false,
    "collapsed": false,
    "jupyter": {
     "outputs_hidden": false
    },
    "new_sheet": false,
    "run_control": {
     "read_only": false
    }
   },
   "outputs": [
    {
     "name": "stdout",
     "output_type": "stream",
     "text": [
      "\n",
      "dict_keys(['id', 'name', 'contact', 'location', 'canonicalUrl', 'categories', 'verified', 'stats', 'url', 'price', 'hasMenu', 'likes', 'dislike', 'ok', 'rating', 'ratingColor', 'ratingSignals', 'menu', 'allowMenuUrlEdit', 'beenHere', 'specials', 'photos', 'reasons', 'hereNow', 'createdAt', 'tips', 'shortUrl', 'timeZone', 'listed', 'hours', 'popular', 'seasonalHours', 'defaultHours', 'pageUpdates', 'inbox', 'attributes', 'bestPhoto', 'colors'])\n",
      "\n"
     ]
    },
    {
     "data": {
      "text/plain": [
       "{'meta': {'code': 200, 'requestId': '5fbfacfb11398a33e7350059'},\n",
       " 'response': {'venue': {'id': '4fa862b3e4b0ebff2f749f06',\n",
       "   'name': \"Harry's Italian Pizza Bar\",\n",
       "   'contact': {'phone': '2126081007', 'formattedPhone': '(212) 608-1007'},\n",
       "   'location': {'address': '225 Murray St',\n",
       "    'lat': 40.71521779064671,\n",
       "    'lng': -74.01473940209351,\n",
       "    'labeledLatLngs': [{'label': 'display',\n",
       "      'lat': 40.71521779064671,\n",
       "      'lng': -74.01473940209351},\n",
       "     {'label': 'entrance', 'lat': 40.715361, 'lng': -74.014975}],\n",
       "    'postalCode': '10282',\n",
       "    'cc': 'US',\n",
       "    'city': 'New York',\n",
       "    'state': 'NY',\n",
       "    'country': 'United States',\n",
       "    'formattedAddress': ['225 Murray St',\n",
       "     'New York, NY 10282',\n",
       "     'United States']},\n",
       "   'canonicalUrl': 'https://foursquare.com/v/harrys-italian-pizza-bar/4fa862b3e4b0ebff2f749f06',\n",
       "   'categories': [{'id': '4bf58dd8d48988d1ca941735',\n",
       "     'name': 'Pizza Place',\n",
       "     'pluralName': 'Pizza Places',\n",
       "     'shortName': 'Pizza',\n",
       "     'icon': {'prefix': 'https://ss3.4sqi.net/img/categories_v2/food/pizza_',\n",
       "      'suffix': '.png'},\n",
       "     'primary': True},\n",
       "    {'id': '4bf58dd8d48988d110941735',\n",
       "     'name': 'Italian Restaurant',\n",
       "     'pluralName': 'Italian Restaurants',\n",
       "     'shortName': 'Italian',\n",
       "     'icon': {'prefix': 'https://ss3.4sqi.net/img/categories_v2/food/italian_',\n",
       "      'suffix': '.png'}}],\n",
       "   'verified': False,\n",
       "   'stats': {'tipCount': 56},\n",
       "   'url': 'http://harrysitalian.com',\n",
       "   'price': {'tier': 2, 'message': 'Moderate', 'currency': '$'},\n",
       "   'hasMenu': True,\n",
       "   'likes': {'count': 120,\n",
       "    'groups': [{'type': 'others', 'count': 120, 'items': []}],\n",
       "    'summary': '120 Likes'},\n",
       "   'dislike': False,\n",
       "   'ok': False,\n",
       "   'rating': 6.9,\n",
       "   'ratingColor': 'FFC800',\n",
       "   'ratingSignals': 212,\n",
       "   'menu': {'type': 'Menu',\n",
       "    'label': 'Menu',\n",
       "    'anchor': 'View Menu',\n",
       "    'url': 'https://foursquare.com/v/harrys-italian-pizza-bar/4fa862b3e4b0ebff2f749f06/menu',\n",
       "    'mobileUrl': 'https://foursquare.com/v/4fa862b3e4b0ebff2f749f06/device_menu'},\n",
       "   'allowMenuUrlEdit': True,\n",
       "   'beenHere': {'count': 0,\n",
       "    'unconfirmedCount': 0,\n",
       "    'marked': False,\n",
       "    'lastCheckinExpiredAt': 0},\n",
       "   'specials': {'count': 0, 'items': []},\n",
       "   'photos': {'count': 146,\n",
       "    'groups': [{'type': 'venue',\n",
       "      'name': 'Venue photos',\n",
       "      'count': 146,\n",
       "      'items': [{'id': '4fad980de4b091b4626c3633',\n",
       "        'createdAt': 1336776717,\n",
       "        'source': {'name': 'Foursquare for Android',\n",
       "         'url': 'https://foursquare.com/download/#/android'},\n",
       "        'prefix': 'https://fastly.4sqi.net/img/general/',\n",
       "        'suffix': '/ya1iQFI7pLjuIJp1PGDKlrZS3OJdHCF7tpILMmjv_2w.jpg',\n",
       "        'width': 480,\n",
       "        'height': 640,\n",
       "        'user': {'isSanctioned': False,\n",
       "         'firstName': 'Leony',\n",
       "         'lastName': 'N',\n",
       "         'countryCode': 'US'},\n",
       "        'visibility': 'public'}]}]},\n",
       "   'reasons': {'count': 1,\n",
       "    'items': [{'summary': 'Lots of people like this place',\n",
       "      'type': 'general',\n",
       "      'reasonName': 'rawLikesReason'}]},\n",
       "   'hereNow': {'count': 0, 'summary': 'Nobody here', 'groups': []},\n",
       "   'createdAt': 1336435379,\n",
       "   'tips': {'count': 56,\n",
       "    'groups': [{'type': 'others',\n",
       "      'name': 'All tips',\n",
       "      'count': 56,\n",
       "      'items': [{'id': '53d27909498e0523841340b6',\n",
       "        'createdAt': 1406302473,\n",
       "        'text': \"Harry's Italian Pizza bar is known for it's amazing pizza, but did you know that the brunches here are amazing too? Try the Nutella French toast and we know you'll be sold.\",\n",
       "        'type': 'user',\n",
       "        'canonicalUrl': 'https://foursquare.com/item/53d27909498e0523841340b6',\n",
       "        'lang': 'en',\n",
       "        'likes': {'count': 4,\n",
       "         'groups': [{'type': 'others',\n",
       "           'count': 4,\n",
       "           'items': [{'isSanctioned': False,\n",
       "             'firstName': 'Diane',\n",
       "             'lastName': 'D',\n",
       "             'countryCode': 'US'},\n",
       "            {'isSanctioned': False,\n",
       "             'firstName': 'Tim',\n",
       "             'lastName': 'S',\n",
       "             'countryCode': 'US'},\n",
       "            {'isSanctioned': False,\n",
       "             'firstName': 'TenantKing.com',\n",
       "             'countryCode': 'US',\n",
       "             'type': 'page'}]}],\n",
       "         'summary': '4 likes'},\n",
       "        'logView': True,\n",
       "        'agreeCount': 3,\n",
       "        'disagreeCount': 0,\n",
       "        'todo': {'count': 0},\n",
       "        'user': {'isSanctioned': False,\n",
       "         'firstName': 'TenantKing.com',\n",
       "         'countryCode': 'US',\n",
       "         'type': 'page'}}]}]},\n",
       "   'shortUrl': 'http://4sq.com/JNblHV',\n",
       "   'timeZone': 'America/New_York',\n",
       "   'listed': {'count': 54,\n",
       "    'groups': [{'type': 'others',\n",
       "      'name': 'Lists from other people',\n",
       "      'count': 54,\n",
       "      'items': [{'id': '4fa32fd0e4b04193744746b1',\n",
       "        'name': 'Manhattan Haunts',\n",
       "        'description': '',\n",
       "        'type': 'others',\n",
       "        'user': {'isSanctioned': False,\n",
       "         'firstName': 'Becca',\n",
       "         'lastName': 'M',\n",
       "         'countryCode': 'US'},\n",
       "        'editable': False,\n",
       "        'public': True,\n",
       "        'collaborative': False,\n",
       "        'url': '/becca_mcarthur/list/manhattan-haunts',\n",
       "        'canonicalUrl': 'https://foursquare.com/becca_mcarthur/list/manhattan-haunts',\n",
       "        'createdAt': 1336094672,\n",
       "        'updatedAt': 1380845377,\n",
       "        'photo': {'id': '4e8cc9461081e3b3544e12e5',\n",
       "         'createdAt': 1317849414,\n",
       "         'prefix': 'https://fastly.4sqi.net/img/general/',\n",
       "         'suffix': '/0NLVU2HC1JF4DXIMKWUFW3QBUT31DC11EFNYYHMJG3NDWAPS.jpg',\n",
       "         'width': 492,\n",
       "         'height': 330,\n",
       "         'user': {'isSanctioned': False,\n",
       "          'firstName': 'Time Out New York',\n",
       "          'countryCode': 'US',\n",
       "          'type': 'page'},\n",
       "         'visibility': 'public'},\n",
       "        'followers': {'count': 22},\n",
       "        'listItems': {'count': 187,\n",
       "         'items': [{'id': 'v4fa862b3e4b0ebff2f749f06',\n",
       "           'createdAt': 1342934485}]}},\n",
       "       {'id': '4fae817be4b085f6b2a74d19',\n",
       "        'name': 'USA NYC MAN FiDi',\n",
       "        'description': 'Where to go for decent eats in the restaurant wasteland of Downtown NYC aka FiDi, along with Tribeca & Battery Park City.',\n",
       "        'type': 'others',\n",
       "        'user': {'isSanctioned': False,\n",
       "         'firstName': 'Kino',\n",
       "         'countryCode': 'US'},\n",
       "        'editable': False,\n",
       "        'public': True,\n",
       "        'collaborative': False,\n",
       "        'url': '/kinosfault/list/usa-nyc-man-fidi',\n",
       "        'canonicalUrl': 'https://foursquare.com/kinosfault/list/usa-nyc-man-fidi',\n",
       "        'createdAt': 1336836475,\n",
       "        'updatedAt': 1556754919,\n",
       "        'photo': {'id': '55984992498e13ba75e353bb',\n",
       "         'createdAt': 1436043666,\n",
       "         'prefix': 'https://fastly.4sqi.net/img/general/',\n",
       "         'suffix': '/12113441_iOa6Uh-Xi8bhj2-gpzkkw8MKiAIs7RmOcz_RM7m8ink.jpg',\n",
       "         'width': 540,\n",
       "         'height': 960,\n",
       "         'user': {'isSanctioned': False,\n",
       "          'firstName': 'Kino',\n",
       "          'countryCode': 'US'},\n",
       "         'visibility': 'public'},\n",
       "        'followers': {'count': 20},\n",
       "        'listItems': {'count': 273,\n",
       "         'items': [{'id': 'v4fa862b3e4b0ebff2f749f06',\n",
       "           'createdAt': 1373909433}]}},\n",
       "       {'id': '4fddeff0e4b0e078037ac0d3',\n",
       "        'name': 'NYC Resturants',\n",
       "        'description': '',\n",
       "        'type': 'others',\n",
       "        'user': {'isSanctioned': False,\n",
       "         'firstName': 'Richard',\n",
       "         'lastName': 'R',\n",
       "         'countryCode': 'US'},\n",
       "        'editable': False,\n",
       "        'public': True,\n",
       "        'collaborative': True,\n",
       "        'url': '/rickr7/list/nyc-resturants',\n",
       "        'canonicalUrl': 'https://foursquare.com/rickr7/list/nyc-resturants',\n",
       "        'createdAt': 1339944944,\n",
       "        'updatedAt': 1605048837,\n",
       "        'photo': {'id': '5072dd13e4b09145cdf782d1',\n",
       "         'createdAt': 1349704979,\n",
       "         'prefix': 'https://fastly.4sqi.net/img/general/',\n",
       "         'suffix': '/208205_fGh2OuAZ9qJ4agbAA5wMVNOSIm9kNUlRtNwj1N-adqg.jpg',\n",
       "         'width': 800,\n",
       "         'height': 800,\n",
       "         'user': {'isSanctioned': False,\n",
       "          'firstName': 'Thalia',\n",
       "          'lastName': 'K',\n",
       "          'countryCode': 'US'},\n",
       "         'visibility': 'public'},\n",
       "        'followers': {'count': 12},\n",
       "        'listItems': {'count': 187,\n",
       "         'items': [{'id': 'v4fa862b3e4b0ebff2f749f06',\n",
       "           'createdAt': 1581655865}]}},\n",
       "       {'id': '5266c68a498e7c667807fe09',\n",
       "        'name': 'Foodie Love in NY - 02',\n",
       "        'description': '',\n",
       "        'type': 'others',\n",
       "        'user': {'isSanctioned': False,\n",
       "         'firstName': 'WiLL',\n",
       "         'countryCode': 'CN'},\n",
       "        'editable': False,\n",
       "        'public': True,\n",
       "        'collaborative': False,\n",
       "        'url': '/sweetiewill/list/foodie-love-in-ny--02',\n",
       "        'canonicalUrl': 'https://foursquare.com/sweetiewill/list/foodie-love-in-ny--02',\n",
       "        'createdAt': 1382467210,\n",
       "        'updatedAt': 1391995585,\n",
       "        'followers': {'count': 7},\n",
       "        'listItems': {'count': 200,\n",
       "         'items': [{'id': 'v4fa862b3e4b0ebff2f749f06',\n",
       "           'createdAt': 1386809936}]}}]}]},\n",
       "   'hours': {'status': 'Closed until 11:30 AM',\n",
       "    'richStatus': {'entities': [], 'text': 'Closed until 11:30 AM'},\n",
       "    'isOpen': False,\n",
       "    'isLocalHoliday': True,\n",
       "    'localHolidayName': 'Thanksgiving Day',\n",
       "    'dayData': [],\n",
       "    'timeframes': [{'days': 'Mon–Wed, Sun',\n",
       "      'open': [{'renderedTime': '11:30 AM–11:00 PM'}],\n",
       "      'segments': []},\n",
       "     {'days': 'Thu–Sat',\n",
       "      'includesToday': True,\n",
       "      'open': [{'renderedTime': '11:30 AM–Midnight'}],\n",
       "      'segments': []}]},\n",
       "   'popular': {'isOpen': False,\n",
       "    'isLocalHoliday': True,\n",
       "    'localHolidayName': 'Thanksgiving Day',\n",
       "    'timeframes': [{'days': 'Today',\n",
       "      'includesToday': True,\n",
       "      'open': [{'renderedTime': 'Noon–2:00 PM'},\n",
       "       {'renderedTime': '5:00 PM–10:00 PM'}],\n",
       "      'segments': []},\n",
       "     {'days': 'Fri',\n",
       "      'open': [{'renderedTime': 'Noon–3:00 PM'},\n",
       "       {'renderedTime': '5:00 PM–11:00 PM'}],\n",
       "      'segments': []},\n",
       "     {'days': 'Sat',\n",
       "      'open': [{'renderedTime': 'Noon–11:00 PM'}],\n",
       "      'segments': []},\n",
       "     {'days': 'Sun',\n",
       "      'open': [{'renderedTime': 'Noon–3:00 PM'},\n",
       "       {'renderedTime': '5:00 PM–8:00 PM'}],\n",
       "      'segments': []},\n",
       "     {'days': 'Mon',\n",
       "      'open': [{'renderedTime': 'Noon–2:00 PM'},\n",
       "       {'renderedTime': '6:00 PM–8:00 PM'}],\n",
       "      'segments': []},\n",
       "     {'days': 'Tue–Wed',\n",
       "      'open': [{'renderedTime': 'Noon–2:00 PM'},\n",
       "       {'renderedTime': '5:00 PM–10:00 PM'}],\n",
       "      'segments': []}]},\n",
       "   'seasonalHours': [],\n",
       "   'defaultHours': {'status': 'Closed until 11:30 AM',\n",
       "    'richStatus': {'entities': [], 'text': 'Closed until 11:30 AM'},\n",
       "    'isOpen': False,\n",
       "    'isLocalHoliday': True,\n",
       "    'localHolidayName': 'Thanksgiving Day',\n",
       "    'dayData': [],\n",
       "    'timeframes': [{'days': 'Mon–Wed, Sun',\n",
       "      'open': [{'renderedTime': '11:30 AM–11:00 PM'}],\n",
       "      'segments': []},\n",
       "     {'days': 'Thu–Sat',\n",
       "      'includesToday': True,\n",
       "      'open': [{'renderedTime': '11:30 AM–Midnight'}],\n",
       "      'segments': []}]},\n",
       "   'pageUpdates': {'count': 0, 'items': []},\n",
       "   'inbox': {'count': 0, 'items': []},\n",
       "   'attributes': {'groups': [{'type': 'price',\n",
       "      'name': 'Price',\n",
       "      'summary': '$$',\n",
       "      'count': 1,\n",
       "      'items': [{'displayName': 'Price',\n",
       "        'displayValue': '$$',\n",
       "        'priceTier': 2}]},\n",
       "     {'type': 'payments',\n",
       "      'name': 'Credit Cards',\n",
       "      'summary': 'Credit Cards',\n",
       "      'count': 7,\n",
       "      'items': [{'displayName': 'Credit Cards',\n",
       "        'displayValue': 'Yes (incl. American Express)'}]},\n",
       "     {'type': 'outdoorSeating',\n",
       "      'name': 'Outdoor Seating',\n",
       "      'summary': 'Outdoor Seating',\n",
       "      'count': 1,\n",
       "      'items': [{'displayName': 'Outdoor Seating', 'displayValue': 'Yes'}]},\n",
       "     {'type': 'serves',\n",
       "      'name': 'Menus',\n",
       "      'summary': 'Happy Hour, Brunch & more',\n",
       "      'count': 8,\n",
       "      'items': [{'displayName': 'Brunch', 'displayValue': 'Brunch'},\n",
       "       {'displayName': 'Lunch', 'displayValue': 'Lunch'},\n",
       "       {'displayName': 'Dinner', 'displayValue': 'Dinner'},\n",
       "       {'displayName': 'Happy Hour', 'displayValue': 'Happy Hour'}]},\n",
       "     {'type': 'drinks',\n",
       "      'name': 'Drinks',\n",
       "      'summary': 'Beer, Wine & Cocktails',\n",
       "      'count': 5,\n",
       "      'items': [{'displayName': 'Beer', 'displayValue': 'Beer'},\n",
       "       {'displayName': 'Wine', 'displayValue': 'Wine'},\n",
       "       {'displayName': 'Cocktails', 'displayValue': 'Cocktails'}]}]},\n",
       "   'bestPhoto': {'id': '4fad980de4b091b4626c3633',\n",
       "    'createdAt': 1336776717,\n",
       "    'source': {'name': 'Foursquare for Android',\n",
       "     'url': 'https://foursquare.com/download/#/android'},\n",
       "    'prefix': 'https://fastly.4sqi.net/img/general/',\n",
       "    'suffix': '/ya1iQFI7pLjuIJp1PGDKlrZS3OJdHCF7tpILMmjv_2w.jpg',\n",
       "    'width': 480,\n",
       "    'height': 640,\n",
       "    'visibility': 'public'},\n",
       "   'colors': {'highlightColor': {'photoId': '4fad980de4b091b4626c3633',\n",
       "     'value': -13619152},\n",
       "    'highlightTextColor': {'photoId': '4fad980de4b091b4626c3633', 'value': -1},\n",
       "    'algoVersion': 3}}}}"
      ]
     },
     "execution_count": 17,
     "metadata": {},
     "output_type": "execute_result"
    }
   ],
   "source": [
    "result1 = requests.get(url1).json()\n",
    "list(result1.keys())\n",
    "print()\n",
    "print(result1['response']['venue'].keys())\n",
    "print()\n",
    "result1"
   ]
  },
  {
   "cell_type": "markdown",
   "metadata": {
    "button": false,
    "new_sheet": false,
    "run_control": {
     "read_only": false
    }
   },
   "source": [
    "### B. Let´s get the first restaurant´s overall rating, examine it and if deemed unsatisfactory, we wiil then choose the venue with the highest rating:\n",
    "\n",
    "</p> \"Try-Except\" block works as a 'one-shot' verifier. It is more pratical than an \"if-then-else\" when it comes to look for a particular data or condition on a dictionaty as it provides a straight-to-the-point type of acess, rather than an iterative selection by decisions.\n"
   ]
  },
  {
   "cell_type": "code",
   "execution_count": 18,
   "metadata": {
    "button": false,
    "collapsed": false,
    "jupyter": {
     "outputs_hidden": false
    },
    "new_sheet": false,
    "run_control": {
     "read_only": false
    }
   },
   "outputs": [
    {
     "name": "stdout",
     "output_type": "stream",
     "text": [
      "6.9\n"
     ]
    }
   ],
   "source": [
    "try:\n",
    "    print(result1['response']['venue']['rating']) # this is a sequence of dict keys, from 'highest' to 'lower than'\n",
    "except:\n",
    "    print('This venue has not been rated yet.')"
   ]
  },
  {
   "cell_type": "code",
   "execution_count": 19,
   "metadata": {},
   "outputs": [
    {
     "data": {
      "text/plain": [
       "56"
      ]
     },
     "execution_count": 19,
     "metadata": {},
     "output_type": "execute_result"
    }
   ],
   "source": [
    "#Alex's Extra Effort for the sake of data explorarion only\n",
    "result1['response']['venue']['tips']['count']"
   ]
  },
  {
   "cell_type": "markdown",
   "metadata": {
    "button": false,
    "new_sheet": false,
    "run_control": {
     "read_only": false
    }
   },
   "source": [
    "That is not a very good rating. Let's check the rating of the second closest Italian restaurant.\n"
   ]
  },
  {
   "cell_type": "code",
   "execution_count": 20,
   "metadata": {
    "button": false,
    "collapsed": false,
    "jupyter": {
     "outputs_hidden": false
    },
    "new_sheet": false,
    "run_control": {
     "read_only": false
    }
   },
   "outputs": [
    {
     "name": "stdout",
     "output_type": "stream",
     "text": [
      "This venue has not been rated yet.\n"
     ]
    }
   ],
   "source": [
    "venue_id2 = '4f3232e219836c91c7bfde94' # ID of Conca Cucina Italian Restaurant\n",
    "url2 = 'https://api.foursquare.com/v2/venues/{}?client_id={}&client_secret={}&v={}'.format(venue_id2, CLIENT_ID, CLIENT_SECRET, VERSION)\n",
    "\n",
    "result2 = requests.get(url2).json()\n",
    "try:\n",
    "    print(result2['response']['venue']['rating'])\n",
    "except:\n",
    "    print('This venue has not been rated yet.')"
   ]
  },
  {
   "cell_type": "code",
   "execution_count": 21,
   "metadata": {},
   "outputs": [
    {
     "data": {
      "text/plain": [
       "0"
      ]
     },
     "execution_count": 21,
     "metadata": {},
     "output_type": "execute_result"
    }
   ],
   "source": [
    "#Alex's Extra Effort for the sake of data explorarion only\n",
    "result2['response']['venue']['tips']['count']"
   ]
  },
  {
   "cell_type": "markdown",
   "metadata": {
    "button": false,
    "new_sheet": false,
    "run_control": {
     "read_only": false
    }
   },
   "source": [
    "Since this restaurant has no ratings, let's check the third restaurant.\n"
   ]
  },
  {
   "cell_type": "code",
   "execution_count": 22,
   "metadata": {
    "button": false,
    "collapsed": false,
    "jupyter": {
     "outputs_hidden": false
    },
    "new_sheet": false,
    "run_control": {
     "read_only": false
    }
   },
   "outputs": [
    {
     "name": "stdout",
     "output_type": "stream",
     "text": [
      "7.3\n"
     ]
    }
   ],
   "source": [
    "venue_id3 = '3fd66200f964a520f4e41ee3' # ID of Ecco\n",
    "url3 = 'https://api.foursquare.com/v2/venues/{}?client_id={}&client_secret={}&v={}'.format(venue_id3, CLIENT_ID, CLIENT_SECRET, VERSION)\n",
    "\n",
    "result3 = requests.get(url3).json()\n",
    "try:\n",
    "    print(result3['response']['venue']['rating'])\n",
    "except:\n",
    "    print('This venue has not been rated yet.')"
   ]
  },
  {
   "cell_type": "code",
   "execution_count": 23,
   "metadata": {},
   "outputs": [
    {
     "data": {
      "text/plain": [
       "19"
      ]
     },
     "execution_count": 23,
     "metadata": {},
     "output_type": "execute_result"
    }
   ],
   "source": [
    "#Alex's Extra Effort for the sake of data explorarion only\n",
    "result3['response']['venue']['tips']['count']"
   ]
  },
  {
   "cell_type": "markdown",
   "metadata": {
    "button": false,
    "new_sheet": false,
    "run_control": {
     "read_only": false
    }
   },
   "source": [
    "**Conclusion:** Since this restaurant has a slightly better rating, let's explore it further."
   ]
  },
  {
   "cell_type": "markdown",
   "metadata": {
    "button": false,
    "new_sheet": false,
    "run_control": {
     "read_only": false
    }
   },
   "source": [
    "### C. Get the number of tips for the 3rd restaurant (Ecco):"
   ]
  },
  {
   "cell_type": "code",
   "execution_count": 24,
   "metadata": {},
   "outputs": [
    {
     "name": "stdout",
     "output_type": "stream",
     "text": [
      "The Restaurante we will look in detail is Ecco .\n"
     ]
    }
   ],
   "source": [
    "print(\"The Restaurante we will look in detail is\", result3['response']['venue']['name'],\".\")"
   ]
  },
  {
   "cell_type": "code",
   "execution_count": 25,
   "metadata": {
    "button": false,
    "collapsed": false,
    "jupyter": {
     "outputs_hidden": false
    },
    "new_sheet": false,
    "run_control": {
     "read_only": false
    }
   },
   "outputs": [
    {
     "data": {
      "text/plain": [
       "19"
      ]
     },
     "execution_count": 25,
     "metadata": {},
     "output_type": "execute_result"
    }
   ],
   "source": [
    "result3['response']['venue']['tips']['count']"
   ]
  },
  {
   "cell_type": "markdown",
   "metadata": {
    "button": false,
    "new_sheet": false,
    "run_control": {
     "read_only": false
    }
   },
   "source": [
    "### D. Get the Venue's Tips\n",
    "\n",
    "> `https://api.foursquare.com/v2/venues/`**VENUE_ID**`/tips?client_id=`**CLIENT_ID**`&client_secret=`**CLIENT_SECRET**`&v=`**VERSION**`&limit=`**LIMIT**"
   ]
  },
  {
   "cell_type": "markdown",
   "metadata": {
    "button": false,
    "new_sheet": false,
    "run_control": {
     "read_only": false
    }
   },
   "source": [
    "#### Create URL and send GET request. Make sure to set limit to get all tips\n"
   ]
  },
  {
   "cell_type": "code",
   "execution_count": 26,
   "metadata": {
    "button": false,
    "collapsed": false,
    "jupyter": {
     "outputs_hidden": false
    },
    "new_sheet": false,
    "run_control": {
     "read_only": false
    }
   },
   "outputs": [
    {
     "data": {
      "text/plain": [
       "{'meta': {'code': 200, 'requestId': '5fbfae42f55f360d58242232'},\n",
       " 'response': {'tips': {'count': 19,\n",
       "   'items': [{'id': '5ab1cb46c9a517174651d3fe',\n",
       "     'createdAt': 1521601350,\n",
       "     'text': 'A+ Italian food! Trust me on this: my mom’s side of the family is 100% Italian. I was born and bred to know good pasta when I see it, and Ecco is one of my all-time NYC favorites',\n",
       "     'type': 'user',\n",
       "     'canonicalUrl': 'https://foursquare.com/item/5ab1cb46c9a517174651d3fe',\n",
       "     'lang': 'en',\n",
       "     'likes': {'count': 0, 'groups': []},\n",
       "     'logView': True,\n",
       "     'agreeCount': 5,\n",
       "     'disagreeCount': 0,\n",
       "     'todo': {'count': 0},\n",
       "     'user': {'isSanctioned': False,\n",
       "      'firstName': 'Nick',\n",
       "      'lastName': 'E',\n",
       "      'countryCode': 'US'},\n",
       "     'authorInteractionType': 'liked'}]}}}"
      ]
     },
     "execution_count": 26,
     "metadata": {},
     "output_type": "execute_result"
    }
   ],
   "source": [
    "## Ecco Tips\n",
    "limit = 15 # set limit to be greater than or equal to the total number of tips (it should be 19 at maximum)\n",
    "url_3a = 'https://api.foursquare.com/v2/venues/{}/tips?client_id={}&client_secret={}&v={}&limit={}'.format(venue_id3, CLIENT_ID, CLIENT_SECRET, VERSION, limit)\n",
    "\n",
    "results_tips = requests.get(url_3a).json()\n",
    "results_tips"
   ]
  },
  {
   "cell_type": "markdown",
   "metadata": {
    "button": false,
    "new_sheet": false,
    "run_control": {
     "read_only": false
    }
   },
   "source": [
    "#### Get Tips and List of Tips´ Associated Features:"
   ]
  },
  {
   "cell_type": "code",
   "execution_count": 27,
   "metadata": {
    "button": false,
    "collapsed": false,
    "jupyter": {
     "outputs_hidden": false
    },
    "new_sheet": false,
    "run_control": {
     "read_only": false
    }
   },
   "outputs": [
    {
     "name": "stdout",
     "output_type": "stream",
     "text": [
      "[{'id': '5ab1cb46c9a517174651d3fe', 'createdAt': 1521601350, 'text': 'A+ Italian food! Trust me on this: my mom’s side of the family is 100% Italian. I was born and bred to know good pasta when I see it, and Ecco is one of my all-time NYC favorites', 'type': 'user', 'canonicalUrl': 'https://foursquare.com/item/5ab1cb46c9a517174651d3fe', 'lang': 'en', 'likes': {'count': 0, 'groups': []}, 'logView': True, 'agreeCount': 5, 'disagreeCount': 0, 'todo': {'count': 0}, 'user': {'isSanctioned': False, 'firstName': 'Nick', 'lastName': 'E', 'countryCode': 'US'}, 'authorInteractionType': 'liked'}]\n",
      "Type for 'tips' is: <class 'list'>\n",
      "\n",
      "{'id': '5ab1cb46c9a517174651d3fe', 'createdAt': 1521601350, 'text': 'A+ Italian food! Trust me on this: my mom’s side of the family is 100% Italian. I was born and bred to know good pasta when I see it, and Ecco is one of my all-time NYC favorites', 'type': 'user', 'canonicalUrl': 'https://foursquare.com/item/5ab1cb46c9a517174651d3fe', 'lang': 'en', 'likes': {'count': 0, 'groups': []}, 'logView': True, 'agreeCount': 5, 'disagreeCount': 0, 'todo': {'count': 0}, 'user': {'isSanctioned': False, 'firstName': 'Nick', 'lastName': 'E', 'countryCode': 'US'}, 'authorInteractionType': 'liked'}\n",
      "Type for 'tip' is: <class 'dict'>\n",
      "\n"
     ]
    },
    {
     "data": {
      "text/plain": [
       "dict_keys(['id', 'createdAt', 'text', 'type', 'canonicalUrl', 'lang', 'likes', 'logView', 'agreeCount', 'disagreeCount', 'todo', 'user', 'authorInteractionType'])"
      ]
     },
     "execution_count": 27,
     "metadata": {},
     "output_type": "execute_result"
    }
   ],
   "source": [
    "tips = results_tips['response']['tips']['items']   # similar to 'venues' at the 1st part of the session. It dekivers a list-type object\n",
    "print(tips)\n",
    "print(\"Type for 'tips' is:\", type(tips))\n",
    "print()\n",
    "\n",
    "tip = results_tips['response']['tips']['items'][0] # 'tips' is a list from which we want to extract the first element (dict).\n",
    "print(tip)\n",
    "print(\"Type for 'tip' is:\", type(tip))\n",
    "print()\n",
    "\n",
    "tip.keys()"
   ]
  },
  {
   "cell_type": "markdown",
   "metadata": {},
   "source": [
    "**Note:** the line 'tips = results_tips['response']['tips']['items']' works in a similar way of a Python composed line on which several commands are executed one after another. For this case, the object 'tips' will encompass every information that is contained within the dict key 'items' which is the \"deepest\" of all listed keys. In other words, it would not be possible to extract the quantity(count) of tips the restaurante was given because this data is outside 'items'. "
   ]
  },
  {
   "cell_type": "markdown",
   "metadata": {
    "button": false,
    "new_sheet": false,
    "run_control": {
     "read_only": false
    }
   },
   "source": [
    "#### Format Column Width and display all Tips:"
   ]
  },
  {
   "cell_type": "code",
   "execution_count": 28,
   "metadata": {
    "button": false,
    "collapsed": false,
    "jupyter": {
     "outputs_hidden": false
    },
    "new_sheet": false,
    "run_control": {
     "read_only": false
    }
   },
   "outputs": [
    {
     "data": {
      "text/html": [
       "<div>\n",
       "<style scoped>\n",
       "    .dataframe tbody tr th:only-of-type {\n",
       "        vertical-align: middle;\n",
       "    }\n",
       "\n",
       "    .dataframe tbody tr th {\n",
       "        vertical-align: top;\n",
       "    }\n",
       "\n",
       "    .dataframe thead th {\n",
       "        text-align: right;\n",
       "    }\n",
       "</style>\n",
       "<table border=\"1\" class=\"dataframe\">\n",
       "  <thead>\n",
       "    <tr style=\"text-align: right;\">\n",
       "      <th></th>\n",
       "      <th>text</th>\n",
       "      <th>agreeCount</th>\n",
       "      <th>disagreeCount</th>\n",
       "      <th>id</th>\n",
       "      <th>user.firstName</th>\n",
       "      <th>user.lastName</th>\n",
       "    </tr>\n",
       "  </thead>\n",
       "  <tbody>\n",
       "    <tr>\n",
       "      <th>0</th>\n",
       "      <td>A+ Italian food! Trust me on this: my mom’s side of the family is 100% Italian. I was born and bred to know good pasta when I see it, and Ecco is one of my all-time NYC favorites</td>\n",
       "      <td>5</td>\n",
       "      <td>0</td>\n",
       "      <td>5ab1cb46c9a517174651d3fe</td>\n",
       "      <td>Nick</td>\n",
       "      <td>E</td>\n",
       "    </tr>\n",
       "  </tbody>\n",
       "</table>\n",
       "</div>"
      ],
      "text/plain": [
       "                                                                                                                                                                                 text  \\\n",
       "0  A+ Italian food! Trust me on this: my mom’s side of the family is 100% Italian. I was born and bred to know good pasta when I see it, and Ecco is one of my all-time NYC favorites   \n",
       "\n",
       "   agreeCount  disagreeCount                        id user.firstName  \\\n",
       "0           5              0  5ab1cb46c9a517174651d3fe           Nick   \n",
       "\n",
       "  user.lastName  \n",
       "0             E  "
      ]
     },
     "execution_count": 28,
     "metadata": {},
     "output_type": "execute_result"
    }
   ],
   "source": [
    "pd.set_option('display.max_colwidth', None)  # it was -1\n",
    "\n",
    "tips_df = pd.json_normalize(tips) # json normalize tips to which I added 'pd.' due to the 'pink-message' suggestion\n",
    "\n",
    "# columns to keep\n",
    "filtered_columns = ['text', 'agreeCount', 'disagreeCount', 'id', 'user.firstName', 'user.lastName'] # there was user.id (????)\n",
    "tips_filtered = tips_df.loc[:, filtered_columns] # here a 2nd df is built from 1st df data by selecting some columns and all rows [:]\n",
    "\n",
    "# display tips\n",
    "tips_filtered.reindex()"
   ]
  },
  {
   "cell_type": "markdown",
   "metadata": {
    "button": false,
    "new_sheet": false,
    "run_control": {
     "read_only": false
    }
   },
   "source": [
    "**Important:**  Now remember that because we are using a personal developer account, then we can access only 2 of the restaurant's tips, instead of all 19 tips. That´s why the dict-output from url_3a search is so short."
   ]
  },
  {
   "cell_type": "markdown",
   "metadata": {
    "button": false,
    "new_sheet": false,
    "run_control": {
     "read_only": false
    }
   },
   "source": [
    "\n"
   ]
  },
  {
   "cell_type": "markdown",
   "metadata": {
    "button": false,
    "new_sheet": false,
    "run_control": {
     "read_only": false
    }
   },
   "source": [
    "<a id=\"item3\"></a>\n"
   ]
  },
  {
   "cell_type": "markdown",
   "metadata": {
    "button": false,
    "new_sheet": false,
    "run_control": {
     "read_only": false
    }
   },
   "source": [
    "## 3. Search a Foursquare User in order to acess his-her Tips\n",
    "</p> Another user - Not the User from previous Section (2D)\n",
    "\n",
    "> `https://api.foursquare.com/v2/users/`**USER_ID**`?client_id=`**CLIENT_ID**`&client_secret=`**CLIENT_SECRET**`&v=`**VERSION**\n"
   ]
  },
  {
   "cell_type": "markdown",
   "metadata": {
    "button": false,
    "new_sheet": false,
    "run_control": {
     "read_only": false
    }
   },
   "source": [
    "### Define URL, send GET request and display features associated with user\n"
   ]
  },
  {
   "cell_type": "code",
   "execution_count": 29,
   "metadata": {
    "button": false,
    "collapsed": false,
    "jupyter": {
     "outputs_hidden": false
    },
    "new_sheet": false,
    "run_control": {
     "read_only": false
    }
   },
   "outputs": [
    {
     "name": "stdout",
     "output_type": "stream",
     "text": [
      "https://api.foursquare.com/v2/users/48454224/tips?client_id=113ZWQSUYLUGMKP51IRZVZRVDHJBACXCYTXIXGD5GM5PVO5B&client_secret=5QXPGLDYT1SVGN3FVVLMZEV0EKJMYPMJNMJAMF2X3ZZEW0SP&v=20180604\n",
      "\n",
      "{'meta': {'code': 200, 'requestId': '5fbfb11501f51442ca3456ba'}, 'response': {'tips': {'count': 1, 'items': [{'id': '518f4181498ed1b8ddf4d733', 'createdAt': 1368342913, 'text': 'El lugar esta muy bueno, pero el DJ nada más no!!!!!!', 'type': 'user', 'canonicalUrl': 'https://foursquare.com/item/518f4181498ed1b8ddf4d733', 'likes': {'count': 1, 'groups': [{'type': 'others', 'count': 1, 'items': []}], 'summary': '1 like'}, 'logView': True, 'agreeCount': 0, 'disagreeCount': 0, 'todo': {'count': 0}, 'venue': {'id': '50779500e4b0112fc267c1da', 'name': 'Tres Bar', 'location': {'lat': 20.17693758560229, 'lng': -98.04832423694748, 'labeledLatLngs': [{'label': 'display', 'lat': 20.17693758560229, 'lng': -98.04832423694748}], 'cc': 'MX', 'country': 'México', 'formattedAddress': ['México']}, 'categories': [{'id': '4bf58dd8d48988d116941735', 'name': 'Bar', 'pluralName': 'Bars', 'shortName': 'Bar', 'icon': {'prefix': 'https://ss3.4sqi.net/img/categories_v2/nightlife/pub_', 'suffix': '.png'}, 'primary': True}], 'photos': {'count': 0, 'groups': [{'type': 'venue', 'name': 'Venue photos', 'count': 0, 'items': [{'id': '57099084498e6e5b94d5a312', 'createdAt': 1460244612, 'prefix': 'https://fastly.4sqi.net/img/general/', 'suffix': '/133773133_ODR5Au05ENkSyu3xxfV3VOfCa0idDfm9Q4n8YbhZDRQ.jpg', 'width': 960, 'height': 540, 'user': {'isSanctioned': False, 'firstName': 'Cesar', 'lastName': 'H', 'countryCode': 'MX'}, 'visibility': 'public'}, {'id': '541e1d3b498e8e793290f7cd', 'createdAt': 1411259707, 'prefix': 'https://fastly.4sqi.net/img/general/', 'suffix': '/30238440_mv7stX3aKbr8nHMI_dKkTCCUs3bhHwvARLuabvDIm5Y.jpg', 'width': 960, 'height': 540, 'user': {'isSanctioned': False, 'firstName': 'Cesar', 'lastName': 'H', 'countryCode': 'MX'}, 'visibility': 'public'}, {'id': '53cb1c82498ef31f2f2eba34', 'createdAt': 1405820034, 'prefix': 'https://fastly.4sqi.net/img/general/', 'suffix': '/51713900_PG5tGSnPloIvz--PJpC6cxDHmvfp6bA4wviH7d_rY_8.jpg', 'width': 960, 'height': 960, 'user': {'isSanctioned': False, 'firstName': 'Marcs', 'lastName': 'M', 'countryCode': 'MX'}, 'visibility': 'public'}]}]}}}]}}}\n",
      "\n"
     ]
    },
    {
     "data": {
      "text/html": [
       "<div>\n",
       "<style scoped>\n",
       "    .dataframe tbody tr th:only-of-type {\n",
       "        vertical-align: middle;\n",
       "    }\n",
       "\n",
       "    .dataframe tbody tr th {\n",
       "        vertical-align: top;\n",
       "    }\n",
       "\n",
       "    .dataframe thead th {\n",
       "        text-align: right;\n",
       "    }\n",
       "</style>\n",
       "<table border=\"1\" class=\"dataframe\">\n",
       "  <thead>\n",
       "    <tr style=\"text-align: right;\">\n",
       "      <th></th>\n",
       "      <th>id</th>\n",
       "      <th>user.firstName</th>\n",
       "      <th>user.lastName</th>\n",
       "      <th>suffix</th>\n",
       "    </tr>\n",
       "  </thead>\n",
       "  <tbody>\n",
       "    <tr>\n",
       "      <th>0</th>\n",
       "      <td>57099084498e6e5b94d5a312</td>\n",
       "      <td>Cesar</td>\n",
       "      <td>H</td>\n",
       "      <td>/133773133_ODR5Au05ENkSyu3xxfV3VOfCa0idDfm9Q4n8YbhZDRQ.jpg</td>\n",
       "    </tr>\n",
       "    <tr>\n",
       "      <th>1</th>\n",
       "      <td>541e1d3b498e8e793290f7cd</td>\n",
       "      <td>Cesar</td>\n",
       "      <td>H</td>\n",
       "      <td>/30238440_mv7stX3aKbr8nHMI_dKkTCCUs3bhHwvARLuabvDIm5Y.jpg</td>\n",
       "    </tr>\n",
       "    <tr>\n",
       "      <th>2</th>\n",
       "      <td>53cb1c82498ef31f2f2eba34</td>\n",
       "      <td>Marcs</td>\n",
       "      <td>M</td>\n",
       "      <td>/51713900_PG5tGSnPloIvz--PJpC6cxDHmvfp6bA4wviH7d_rY_8.jpg</td>\n",
       "    </tr>\n",
       "  </tbody>\n",
       "</table>\n",
       "</div>"
      ],
      "text/plain": [
       "                         id user.firstName user.lastName  \\\n",
       "0  57099084498e6e5b94d5a312          Cesar             H   \n",
       "1  541e1d3b498e8e793290f7cd          Cesar             H   \n",
       "2  53cb1c82498ef31f2f2eba34          Marcs             M   \n",
       "\n",
       "                                                       suffix  \n",
       "0  /133773133_ODR5Au05ENkSyu3xxfV3VOfCa0idDfm9Q4n8YbhZDRQ.jpg  \n",
       "1   /30238440_mv7stX3aKbr8nHMI_dKkTCCUs3bhHwvARLuabvDIm5Y.jpg  \n",
       "2   /51713900_PG5tGSnPloIvz--PJpC6cxDHmvfp6bA4wviH7d_rY_8.jpg  "
      ]
     },
     "execution_count": 29,
     "metadata": {},
     "output_type": "execute_result"
    }
   ],
   "source": [
    "idnumber = '48454224' # user ID with most agree counts and complete profile\n",
    "\n",
    "url_user = 'https://api.foursquare.com/v2/users/{}/tips?client_id={}&client_secret={}&v={}'.format(idnumber, CLIENT_ID, CLIENT_SECRET, VERSION) # define URL\n",
    "print(url_user)\n",
    "print()\n",
    "\n",
    "# send GET request\n",
    "results_user = requests.get(url_user).json()\n",
    "print(results_user)\n",
    "print()\n",
    "\n",
    "#user_data = results['response']['user']\n",
    "user_data = results_user['response']['tips']['items'][0]['venue']['photos']['groups'][0]['items']#['items']\n",
    "\n",
    "# display features associated with user\n",
    "#user_data.keys()\n",
    "#results\n",
    "pd.set_option('display.max_colwidth', None) # also with a -1 (original)\n",
    "\n",
    "users_df = pd.json_normalize(user_data)\n",
    "\n",
    "# filter columns\n",
    "filtered_columns = ['id','user.firstName','user.lastName','suffix']  # it worked after elimination of 'user.id' from the second position\n",
    "tips_filtered = users_df.loc[:, filtered_columns]\n",
    "\n",
    "# display user's tips\n",
    "df=tips_filtered\n",
    "df\n",
    "#url"
   ]
  },
  {
   "cell_type": "code",
   "execution_count": 30,
   "metadata": {},
   "outputs": [
    {
     "name": "stdout",
     "output_type": "stream",
     "text": [
      "0    First Name: Cesar\n",
      "Name: user.firstName, dtype: object\n",
      "0    Last Name: H\n",
      "Name: user.lastName, dtype: object\n"
     ]
    }
   ],
   "source": [
    "# I had to modify this because there is no information about 'id' inside the inner key 'user'. Therefore no 'user.id' is available.\n",
    "g=df.loc[df['id'] == '57099084498e6e5b94d5a312']\n",
    "print('First Name: ' + g['user.firstName'])\n",
    "print('Last Name: ' + g['user.lastName'])"
   ]
  },
  {
   "cell_type": "markdown",
   "metadata": {},
   "source": [
    "### Retrieve the User's Profile Image\n"
   ]
  },
  {
   "cell_type": "code",
   "execution_count": 31,
   "metadata": {},
   "outputs": [
    {
     "data": {
      "text/html": [
       "<img src=\"https://fastly.4sqi.net/img/general/540x920/133773133_ODR5Au05ENkSyu3xxfV3VOfCa0idDfm9Q4n8YbhZDRQ.jpg\"/>"
      ],
      "text/plain": [
       "<IPython.core.display.Image object>"
      ]
     },
     "execution_count": 31,
     "metadata": {},
     "output_type": "execute_result"
    }
   ],
   "source": [
    "# 1. grab prefix of photo\n",
    "# 2. grab suffix of photo\n",
    "# 3. concatenate them using the image size  \n",
    "Image(url='https://fastly.4sqi.net/img/general/540x920/133773133_ODR5Au05ENkSyu3xxfV3VOfCa0idDfm9Q4n8YbhZDRQ.jpg')"
   ]
  },
  {
   "cell_type": "markdown",
   "metadata": {
    "button": false,
    "new_sheet": false,
    "run_control": {
     "read_only": false
    }
   },
   "source": [
    "Wow! So it turns out that Nick is a very active Foursquare user, with more than 250 tips.\n"
   ]
  },
  {
   "cell_type": "markdown",
   "metadata": {
    "button": false,
    "new_sheet": false,
    "run_control": {
     "read_only": false
    }
   },
   "source": [
    "### Get User's Tips"
   ]
  },
  {
   "cell_type": "markdown",
   "metadata": {},
   "source": [
    "It seems this is the first user's (Nick E) tips for several venues. Actually, this notebook looks very confusing when it comes to a reasoning line and a logical sequence of activities. "
   ]
  },
  {
   "cell_type": "code",
   "execution_count": 32,
   "metadata": {
    "button": false,
    "collapsed": false,
    "jupyter": {
     "outputs_hidden": false
    },
    "new_sheet": false,
    "run_control": {
     "read_only": false
    }
   },
   "outputs": [
    {
     "data": {
      "text/html": [
       "<div>\n",
       "<style scoped>\n",
       "    .dataframe tbody tr th:only-of-type {\n",
       "        vertical-align: middle;\n",
       "    }\n",
       "\n",
       "    .dataframe tbody tr th {\n",
       "        vertical-align: top;\n",
       "    }\n",
       "\n",
       "    .dataframe thead th {\n",
       "        text-align: right;\n",
       "    }\n",
       "</style>\n",
       "<table border=\"1\" class=\"dataframe\">\n",
       "  <thead>\n",
       "    <tr style=\"text-align: right;\">\n",
       "      <th></th>\n",
       "      <th>text</th>\n",
       "      <th>agreeCount</th>\n",
       "      <th>disagreeCount</th>\n",
       "      <th>id</th>\n",
       "    </tr>\n",
       "  </thead>\n",
       "  <tbody>\n",
       "    <tr>\n",
       "      <th>0</th>\n",
       "      <td>They serve coffee!!!!!!</td>\n",
       "      <td>1</td>\n",
       "      <td>0</td>\n",
       "      <td>5accc98c0313204c9d7ec157</td>\n",
       "    </tr>\n",
       "    <tr>\n",
       "      <th>1</th>\n",
       "      <td>Quick, cheap lunch that tastes good! Way shorter line than Chipotle, too.</td>\n",
       "      <td>2</td>\n",
       "      <td>0</td>\n",
       "      <td>5acbec70a0215b732e264fe8</td>\n",
       "    </tr>\n",
       "    <tr>\n",
       "      <th>2</th>\n",
       "      <td>You’re not a real New Yorker until you’ve shame-ordered Insomnia Cookies for delivery at 3am</td>\n",
       "      <td>1</td>\n",
       "      <td>0</td>\n",
       "      <td>5acbbd4eb1538e45373b07f5</td>\n",
       "    </tr>\n",
       "    <tr>\n",
       "      <th>3</th>\n",
       "      <td>Good for you yet still tasty! Clean green protein is my go-to after I hit the gym 💪</td>\n",
       "      <td>2</td>\n",
       "      <td>0</td>\n",
       "      <td>5acbbcda01235808d5d6dc75</td>\n",
       "    </tr>\n",
       "    <tr>\n",
       "      <th>4</th>\n",
       "      <td>Burger game strong 💪</td>\n",
       "      <td>1</td>\n",
       "      <td>0</td>\n",
       "      <td>5ab575fb6bdee65f759da8c1</td>\n",
       "    </tr>\n",
       "    <tr>\n",
       "      <th>5</th>\n",
       "      <td>Great burgers &amp; fries! Also, this place is exactly what it’s like when you go to a bar in the Southwest. Source: I’m from Arizona.</td>\n",
       "      <td>2</td>\n",
       "      <td>0</td>\n",
       "      <td>5ab5575d73fe2516ad8f363b</td>\n",
       "    </tr>\n",
       "    <tr>\n",
       "      <th>6</th>\n",
       "      <td>Açaí bowl + peanut butter + whey protein = 💪💪💪</td>\n",
       "      <td>1</td>\n",
       "      <td>0</td>\n",
       "      <td>5ab42db53c858d64af2688a4</td>\n",
       "    </tr>\n",
       "    <tr>\n",
       "      <th>7</th>\n",
       "      <td>Highly underrated and way less crowded than Central Park!</td>\n",
       "      <td>3</td>\n",
       "      <td>0</td>\n",
       "      <td>5ab42c396f706a29f53ad1a8</td>\n",
       "    </tr>\n",
       "    <tr>\n",
       "      <th>8</th>\n",
       "      <td>Get the açaí bowl with peanut butter after your work out and thank me later 👌</td>\n",
       "      <td>1</td>\n",
       "      <td>0</td>\n",
       "      <td>5ab42aca2a7ab6333652b266</td>\n",
       "    </tr>\n",
       "    <tr>\n",
       "      <th>9</th>\n",
       "      <td>When you want a burger, this should be the first thing that comes to mind. A+!</td>\n",
       "      <td>1</td>\n",
       "      <td>0</td>\n",
       "      <td>5ab42a28da5e5617d18e3a6a</td>\n",
       "    </tr>\n",
       "    <tr>\n",
       "      <th>10</th>\n",
       "      <td>Way less crowded than Central Park! People who live in the neighborhood rave about Carl Schurz Park.</td>\n",
       "      <td>3</td>\n",
       "      <td>0</td>\n",
       "      <td>5ab429db1ffe971b060083f5</td>\n",
       "    </tr>\n",
       "    <tr>\n",
       "      <th>11</th>\n",
       "      <td>The best Mexican food in the Murray Hill / Kips Bay area!</td>\n",
       "      <td>1</td>\n",
       "      <td>0</td>\n",
       "      <td>5ab3f53f8496ca57542d5549</td>\n",
       "    </tr>\n",
       "    <tr>\n",
       "      <th>12</th>\n",
       "      <td>Best coffee shop in the neighborhood!</td>\n",
       "      <td>1</td>\n",
       "      <td>0</td>\n",
       "      <td>5ab3f428da5e5617d17d1475</td>\n",
       "    </tr>\n",
       "    <tr>\n",
       "      <th>13</th>\n",
       "      <td>When there’s nice weather, the rooftop at Tonic East is the best place to watch the game. Perfect for March Madness &amp; NBA finals!</td>\n",
       "      <td>2</td>\n",
       "      <td>0</td>\n",
       "      <td>5ab3f3fedd70c572de886c9d</td>\n",
       "    </tr>\n",
       "    <tr>\n",
       "      <th>14</th>\n",
       "      <td>Rib game level 💯</td>\n",
       "      <td>1</td>\n",
       "      <td>0</td>\n",
       "      <td>5ab3f372da2e00604ca53924</td>\n",
       "    </tr>\n",
       "  </tbody>\n",
       "</table>\n",
       "</div>"
      ],
      "text/plain": [
       "                                                                                                                                  text  \\\n",
       "0                                                                                                              They serve coffee!!!!!!   \n",
       "1                                                            Quick, cheap lunch that tastes good! Way shorter line than Chipotle, too.   \n",
       "2                                         You’re not a real New Yorker until you’ve shame-ordered Insomnia Cookies for delivery at 3am   \n",
       "3                                                  Good for you yet still tasty! Clean green protein is my go-to after I hit the gym 💪   \n",
       "4                                                                                                                 Burger game strong 💪   \n",
       "5   Great burgers & fries! Also, this place is exactly what it’s like when you go to a bar in the Southwest. Source: I’m from Arizona.   \n",
       "6                                                                                       Açaí bowl + peanut butter + whey protein = 💪💪💪   \n",
       "7                                                                            Highly underrated and way less crowded than Central Park!   \n",
       "8                                                        Get the açaí bowl with peanut butter after your work out and thank me later 👌   \n",
       "9                                                       When you want a burger, this should be the first thing that comes to mind. A+!   \n",
       "10                                Way less crowded than Central Park! People who live in the neighborhood rave about Carl Schurz Park.   \n",
       "11                                                                           The best Mexican food in the Murray Hill / Kips Bay area!   \n",
       "12                                                                                               Best coffee shop in the neighborhood!   \n",
       "13   When there’s nice weather, the rooftop at Tonic East is the best place to watch the game. Perfect for March Madness & NBA finals!   \n",
       "14                                                                                                                    Rib game level 💯   \n",
       "\n",
       "    agreeCount  disagreeCount                        id  \n",
       "0            1              0  5accc98c0313204c9d7ec157  \n",
       "1            2              0  5acbec70a0215b732e264fe8  \n",
       "2            1              0  5acbbd4eb1538e45373b07f5  \n",
       "3            2              0  5acbbcda01235808d5d6dc75  \n",
       "4            1              0  5ab575fb6bdee65f759da8c1  \n",
       "5            2              0  5ab5575d73fe2516ad8f363b  \n",
       "6            1              0  5ab42db53c858d64af2688a4  \n",
       "7            3              0  5ab42c396f706a29f53ad1a8  \n",
       "8            1              0  5ab42aca2a7ab6333652b266  \n",
       "9            1              0  5ab42a28da5e5617d18e3a6a  \n",
       "10           3              0  5ab429db1ffe971b060083f5  \n",
       "11           1              0  5ab3f53f8496ca57542d5549  \n",
       "12           1              0  5ab3f428da5e5617d17d1475  \n",
       "13           2              0  5ab3f3fedd70c572de886c9d  \n",
       "14           1              0  5ab3f372da2e00604ca53924  "
      ]
     },
     "execution_count": 32,
     "metadata": {},
     "output_type": "execute_result"
    }
   ],
   "source": [
    "# define tips URL\n",
    "user_id='484542633'\n",
    "url_newuser = 'https://api.foursquare.com/v2/users/{}/tips?client_id={}&client_secret={}&v={}&limit={}'.format(user_id, CLIENT_ID, CLIENT_SECRET, VERSION, limit)\n",
    "\n",
    "# send GET request and get user's tips\n",
    "results_newuser = requests.get(url_newuser).json()\n",
    "\n",
    "# print(results_newuser) used it with visualization purposes...as the dict is too lenghty, I'd rather keep it not as active code\n",
    "\n",
    "tips_newuser = results_newuser['response']['tips']['items']\n",
    "\n",
    "# format column width\n",
    "pd.set_option('display.max_colwidth', None)\n",
    "tips_df = pd.json_normalize(tips_newuser)\n",
    "\n",
    "# filter columns\n",
    "filtered_columns = ['text', 'agreeCount', 'disagreeCount', 'id']\n",
    "tips_filtered = tips_df.loc[:, filtered_columns]\n",
    "\n",
    "# display user's tips\n",
    "tips_filtered"
   ]
  },
  {
   "cell_type": "markdown",
   "metadata": {
    "button": false,
    "new_sheet": false,
    "run_control": {
     "read_only": false
    }
   },
   "source": [
    "#### Let's get the Venue for the Tip with the Greatest Number of Agree Counts, that is, some sort of \"Unanimity\":"
   ]
  },
  {
   "cell_type": "code",
   "execution_count": 33,
   "metadata": {
    "button": false,
    "collapsed": false,
    "jupyter": {
     "outputs_hidden": false
    },
    "new_sheet": false,
    "run_control": {
     "read_only": false
    }
   },
   "outputs": [
    {
     "data": {
      "text/plain": [
       "{'meta': {'code': 200, 'requestId': '5fbfb183d268be16693ed990'},\n",
       " 'response': {'tips': {'count': 1,\n",
       "   'items': [{'id': '518f4181498ed1b8ddf4d733',\n",
       "     'createdAt': 1368342913,\n",
       "     'text': 'El lugar esta muy bueno, pero el DJ nada más no!!!!!!',\n",
       "     'type': 'user',\n",
       "     'canonicalUrl': 'https://foursquare.com/item/518f4181498ed1b8ddf4d733',\n",
       "     'likes': {'count': 1,\n",
       "      'groups': [{'type': 'others', 'count': 1, 'items': []}],\n",
       "      'summary': '1 like'},\n",
       "     'logView': True,\n",
       "     'agreeCount': 0,\n",
       "     'disagreeCount': 0,\n",
       "     'todo': {'count': 0},\n",
       "     'venue': {'id': '50779500e4b0112fc267c1da',\n",
       "      'name': 'Tres Bar',\n",
       "      'location': {'lat': 20.17693758560229,\n",
       "       'lng': -98.04832423694748,\n",
       "       'labeledLatLngs': [{'label': 'display',\n",
       "         'lat': 20.17693758560229,\n",
       "         'lng': -98.04832423694748}],\n",
       "       'cc': 'MX',\n",
       "       'country': 'México',\n",
       "       'formattedAddress': ['México']},\n",
       "      'categories': [{'id': '4bf58dd8d48988d116941735',\n",
       "        'name': 'Bar',\n",
       "        'pluralName': 'Bars',\n",
       "        'shortName': 'Bar',\n",
       "        'icon': {'prefix': 'https://ss3.4sqi.net/img/categories_v2/nightlife/pub_',\n",
       "         'suffix': '.png'},\n",
       "        'primary': True}],\n",
       "      'photos': {'count': 0,\n",
       "       'groups': [{'type': 'venue',\n",
       "         'name': 'Venue photos',\n",
       "         'count': 0,\n",
       "         'items': [{'id': '57099084498e6e5b94d5a312',\n",
       "           'createdAt': 1460244612,\n",
       "           'prefix': 'https://fastly.4sqi.net/img/general/',\n",
       "           'suffix': '/133773133_ODR5Au05ENkSyu3xxfV3VOfCa0idDfm9Q4n8YbhZDRQ.jpg',\n",
       "           'width': 960,\n",
       "           'height': 540,\n",
       "           'user': {'isSanctioned': False,\n",
       "            'firstName': 'Cesar',\n",
       "            'lastName': 'H',\n",
       "            'countryCode': 'MX'},\n",
       "           'visibility': 'public'},\n",
       "          {'id': '541e1d3b498e8e793290f7cd',\n",
       "           'createdAt': 1411259707,\n",
       "           'prefix': 'https://fastly.4sqi.net/img/general/',\n",
       "           'suffix': '/30238440_mv7stX3aKbr8nHMI_dKkTCCUs3bhHwvARLuabvDIm5Y.jpg',\n",
       "           'width': 960,\n",
       "           'height': 540,\n",
       "           'user': {'isSanctioned': False,\n",
       "            'firstName': 'Cesar',\n",
       "            'lastName': 'H',\n",
       "            'countryCode': 'MX'},\n",
       "           'visibility': 'public'},\n",
       "          {'id': '53cb1c82498ef31f2f2eba34',\n",
       "           'createdAt': 1405820034,\n",
       "           'prefix': 'https://fastly.4sqi.net/img/general/',\n",
       "           'suffix': '/51713900_PG5tGSnPloIvz--PJpC6cxDHmvfp6bA4wviH7d_rY_8.jpg',\n",
       "           'width': 960,\n",
       "           'height': 960,\n",
       "           'user': {'isSanctioned': False,\n",
       "            'firstName': 'Marcs',\n",
       "            'lastName': 'M',\n",
       "            'countryCode': 'MX'},\n",
       "           'visibility': 'public'}]}]}}}]}}}"
      ]
     },
     "execution_count": 33,
     "metadata": {},
     "output_type": "execute_result"
    }
   ],
   "source": [
    "tip_id_great = '5ab5575d73fe2516ad8f363b' # tip id\n",
    "\n",
    "# define URL\n",
    "url_great_tip = 'https://api.foursquare.com/v2/users/{}/tips?client_id={}&client_secret={}&v={}'.format(idnumber, CLIENT_ID, CLIENT_SECRET, VERSION) # define URL\n",
    "\n",
    "# send GET Request and examine results\n",
    "result_great_tip = requests.get(url_great_tip).json()\n",
    "result_great_tip"
   ]
  },
  {
   "cell_type": "code",
   "execution_count": 34,
   "metadata": {},
   "outputs": [
    {
     "name": "stdout",
     "output_type": "stream",
     "text": [
      "Tres Bar\n",
      "\n",
      "{'lat': 20.17693758560229, 'lng': -98.04832423694748, 'labeledLatLngs': [{'label': 'display', 'lat': 20.17693758560229, 'lng': -98.04832423694748}], 'cc': 'MX', 'country': 'México', 'formattedAddress': ['México']}\n",
      "\n",
      "User Identification is: 48454224\n"
     ]
    }
   ],
   "source": [
    "print(result_great_tip['response']['tips']['items'][0]['venue']['name'])\n",
    "print()\n",
    "print(result_great_tip['response']['tips']['items'][0]['venue']['location'])\n",
    "print()\n",
    "print(\"User Identification is:\", idnumber)"
   ]
  },
  {
   "cell_type": "markdown",
   "metadata": {},
   "source": [
    "**Note**: Take a look at the dict and look for (result_great_tip['response']['tips']['items'][0]['venue']['name'])...it is exactly Tres Bar. Same thing for second line which ends with ['location'] as it brings the whole dictionary associated with it. "
   ]
  },
  {
   "cell_type": "markdown",
   "metadata": {
    "button": false,
    "new_sheet": false,
    "run_control": {
     "read_only": false
    }
   },
   "source": [
    "## 4. Explore a location\n",
    "\n",
    "> `https://api.foursquare.com/v2/venues/`**explore**`?client_id=`**CLIENT_ID**`&client_secret=`**CLIENT_SECRET**`&ll=`**LATITUDE**`,`**LONGITUDE**`&v=`**VERSION**`&limit=`**LIMIT**\n"
   ]
  },
  {
   "cell_type": "markdown",
   "metadata": {
    "button": false,
    "new_sheet": false,
    "run_control": {
     "read_only": false
    }
   },
   "source": [
    "#### So, you just finished your gourmet dish at Ecco, and are just curious about the popular spots around the restaurant. In order to explore the area, let's start by getting the latitude and longitude values of Ecco Restaurant.\n"
   ]
  },
  {
   "cell_type": "code",
   "execution_count": 36,
   "metadata": {
    "button": false,
    "new_sheet": false,
    "run_control": {
     "read_only": false
    }
   },
   "outputs": [],
   "source": [
    "latitude_ecco = 40.715337\n",
    "longitude_ecco = -74.008848"
   ]
  },
  {
   "cell_type": "markdown",
   "metadata": {
    "button": false,
    "new_sheet": false,
    "run_control": {
     "read_only": false
    }
   },
   "source": [
    "#### Define URL\n"
   ]
  },
  {
   "cell_type": "code",
   "execution_count": 37,
   "metadata": {
    "button": false,
    "collapsed": false,
    "jupyter": {
     "outputs_hidden": false
    },
    "new_sheet": false,
    "run_control": {
     "read_only": false
    }
   },
   "outputs": [
    {
     "data": {
      "text/plain": [
       "'https://api.foursquare.com/v2/venues/explore?client_id=113ZWQSUYLUGMKP51IRZVZRVDHJBACXCYTXIXGD5GM5PVO5B&client_secret=5QXPGLDYT1SVGN3FVVLMZEV0EKJMYPMJNMJAMF2X3ZZEW0SP&ll=40.715337,-74.008848&v=20180604&radius=500&limit=30'"
      ]
     },
     "execution_count": 37,
     "metadata": {},
     "output_type": "execute_result"
    }
   ],
   "source": [
    "url_pop = 'https://api.foursquare.com/v2/venues/explore?client_id={}&client_secret={}&ll={},{}&v={}&radius={}&limit={}'.format(CLIENT_ID, CLIENT_SECRET, latitude_ecco, longitude_ecco, VERSION, radius, LIMIT)\n",
    "url_pop"
   ]
  },
  {
   "cell_type": "markdown",
   "metadata": {
    "button": false,
    "new_sheet": false,
    "run_control": {
     "read_only": false
    }
   },
   "source": [
    "#### Send GET request and examine results\n"
   ]
  },
  {
   "cell_type": "code",
   "execution_count": 38,
   "metadata": {
    "button": false,
    "new_sheet": false,
    "run_control": {
     "read_only": false
    }
   },
   "outputs": [],
   "source": [
    "import requests"
   ]
  },
  {
   "cell_type": "code",
   "execution_count": 39,
   "metadata": {
    "button": false,
    "collapsed": false,
    "jupyter": {
     "outputs_hidden": false
    },
    "new_sheet": false,
    "run_control": {
     "read_only": false
    }
   },
   "outputs": [
    {
     "data": {
      "text/plain": [
       "{'meta': {'code': 200, 'requestId': '5fbfb35c432e02660cf4c262'},\n",
       " 'response': {'suggestedFilters': {'header': 'Tap to show:',\n",
       "   'filters': [{'name': 'Open now', 'key': 'openNow'},\n",
       "    {'name': '$-$$$$', 'key': 'price'}]},\n",
       "  'headerLocation': 'Tribeca',\n",
       "  'headerFullLocation': 'Tribeca, New York',\n",
       "  'headerLocationGranularity': 'neighborhood',\n",
       "  'totalResults': 127,\n",
       "  'suggestedBounds': {'ne': {'lat': 40.7198370045, 'lng': -74.00292208843348},\n",
       "   'sw': {'lat': 40.710836995499996, 'lng': -74.01477391156652}},\n",
       "  'groups': [{'type': 'Recommended Places',\n",
       "    'name': 'recommended',\n",
       "    'items': [{'reasons': {'count': 0,\n",
       "       'items': [{'summary': 'This spot is popular',\n",
       "         'type': 'general',\n",
       "         'reasonName': 'globalInteractionReason'}]},\n",
       "      'venue': {'id': '5d5f24ec09484500079aee00',\n",
       "       'name': 'Los Tacos No. 1',\n",
       "       'location': {'address': '136 Church St',\n",
       "        'lat': 40.714267,\n",
       "        'lng': -74.008756,\n",
       "        'labeledLatLngs': [{'label': 'display',\n",
       "          'lat': 40.714267,\n",
       "          'lng': -74.008756}],\n",
       "        'distance': 119,\n",
       "        'postalCode': '10007',\n",
       "        'cc': 'US',\n",
       "        'city': 'New York',\n",
       "        'state': 'NY',\n",
       "        'country': 'United States',\n",
       "        'formattedAddress': ['136 Church St',\n",
       "         'New York, NY 10007',\n",
       "         'United States']},\n",
       "       'categories': [{'id': '4bf58dd8d48988d151941735',\n",
       "         'name': 'Taco Place',\n",
       "         'pluralName': 'Taco Places',\n",
       "         'shortName': 'Tacos',\n",
       "         'icon': {'prefix': 'https://ss3.4sqi.net/img/categories_v2/food/taco_',\n",
       "          'suffix': '.png'},\n",
       "         'primary': True}],\n",
       "       'delivery': {'id': '2180700',\n",
       "        'url': 'https://www.seamless.com/menu/los-tacos-no-1-tribeca-136-church-st-new-york/2180700?affiliate=1131&utm_source=foursquare-affiliate-network&utm_medium=affiliate&utm_campaign=1131&utm_content=2180700',\n",
       "        'provider': {'name': 'seamless',\n",
       "         'icon': {'prefix': 'https://fastly.4sqi.net/img/general/cap/',\n",
       "          'sizes': [40, 50],\n",
       "          'name': '/delivery_provider_seamless_20180129.png'}}},\n",
       "       'photos': {'count': 0, 'groups': []}},\n",
       "      'referralId': 'e-0-5d5f24ec09484500079aee00-0'},\n",
       "     {'reasons': {'count': 0,\n",
       "       'items': [{'summary': 'This spot is popular',\n",
       "         'type': 'general',\n",
       "         'reasonName': 'globalInteractionReason'}]},\n",
       "      'venue': {'id': '4af5d65ff964a52091fd21e3',\n",
       "       'name': 'Korin',\n",
       "       'location': {'address': '57 Warren St',\n",
       "        'crossStreet': 'Church St',\n",
       "        'lat': 40.71482437714839,\n",
       "        'lng': -74.00940425461492,\n",
       "        'labeledLatLngs': [{'label': 'display',\n",
       "          'lat': 40.71482437714839,\n",
       "          'lng': -74.00940425461492},\n",
       "         {'label': 'entrance', 'lat': 40.714727, 'lng': -74.009399}],\n",
       "        'distance': 73,\n",
       "        'postalCode': '10007',\n",
       "        'cc': 'US',\n",
       "        'neighborhood': 'Tribeca',\n",
       "        'city': 'New York',\n",
       "        'state': 'NY',\n",
       "        'country': 'United States',\n",
       "        'formattedAddress': ['57 Warren St (Church St)',\n",
       "         'New York, NY 10007',\n",
       "         'United States']},\n",
       "       'categories': [{'id': '4bf58dd8d48988d1f8941735',\n",
       "         'name': 'Furniture / Home Store',\n",
       "         'pluralName': 'Furniture / Home Stores',\n",
       "         'shortName': 'Furniture / Home',\n",
       "         'icon': {'prefix': 'https://ss3.4sqi.net/img/categories_v2/shops/furniture_',\n",
       "          'suffix': '.png'},\n",
       "         'primary': True}],\n",
       "       'photos': {'count': 0, 'groups': []},\n",
       "       'venuePage': {'id': '33104775'}},\n",
       "      'referralId': 'e-0-4af5d65ff964a52091fd21e3-1'},\n",
       "     {'reasons': {'count': 0,\n",
       "       'items': [{'summary': 'This spot is popular',\n",
       "         'type': 'general',\n",
       "         'reasonName': 'globalInteractionReason'}]},\n",
       "      'venue': {'id': '54148bc6498ea7bb8c05b70a',\n",
       "       'name': 'Juice Press',\n",
       "       'location': {'address': '83 Murray St',\n",
       "        'crossStreet': 'btwn Greenwich St & W Broadway',\n",
       "        'lat': 40.71478769908051,\n",
       "        'lng': -74.0111317502157,\n",
       "        'labeledLatLngs': [{'label': 'display',\n",
       "          'lat': 40.71478769908051,\n",
       "          'lng': -74.0111317502157}],\n",
       "        'distance': 202,\n",
       "        'postalCode': '10007',\n",
       "        'cc': 'US',\n",
       "        'city': 'New York',\n",
       "        'state': 'NY',\n",
       "        'country': 'United States',\n",
       "        'formattedAddress': ['83 Murray St (btwn Greenwich St & W Broadway)',\n",
       "         'New York, NY 10007',\n",
       "         'United States']},\n",
       "       'categories': [{'id': '4bf58dd8d48988d1d3941735',\n",
       "         'name': 'Vegetarian / Vegan Restaurant',\n",
       "         'pluralName': 'Vegetarian / Vegan Restaurants',\n",
       "         'shortName': 'Vegetarian / Vegan',\n",
       "         'icon': {'prefix': 'https://ss3.4sqi.net/img/categories_v2/food/vegetarian_',\n",
       "          'suffix': '.png'},\n",
       "         'primary': True}],\n",
       "       'photos': {'count': 0, 'groups': []}},\n",
       "      'referralId': 'e-0-54148bc6498ea7bb8c05b70a-2'},\n",
       "     {'reasons': {'count': 0,\n",
       "       'items': [{'summary': 'This spot is popular',\n",
       "         'type': 'general',\n",
       "         'reasonName': 'globalInteractionReason'}]},\n",
       "      'venue': {'id': '4c154c9a77cea593c401d260',\n",
       "       'name': 'Takahachi Bakery',\n",
       "       'location': {'address': '25 Murray St',\n",
       "        'crossStreet': 'at Church St',\n",
       "        'lat': 40.713652845301894,\n",
       "        'lng': -74.0088038953017,\n",
       "        'labeledLatLngs': [{'label': 'display',\n",
       "          'lat': 40.713652845301894,\n",
       "          'lng': -74.0088038953017},\n",
       "         {'label': 'entrance', 'lat': 40.713716, 'lng': -74.008443}],\n",
       "        'distance': 187,\n",
       "        'postalCode': '10007',\n",
       "        'cc': 'US',\n",
       "        'city': 'New York',\n",
       "        'state': 'NY',\n",
       "        'country': 'United States',\n",
       "        'formattedAddress': ['25 Murray St (at Church St)',\n",
       "         'New York, NY 10007',\n",
       "         'United States']},\n",
       "       'categories': [{'id': '4bf58dd8d48988d16a941735',\n",
       "         'name': 'Bakery',\n",
       "         'pluralName': 'Bakeries',\n",
       "         'shortName': 'Bakery',\n",
       "         'icon': {'prefix': 'https://ss3.4sqi.net/img/categories_v2/food/bakery_',\n",
       "          'suffix': '.png'},\n",
       "         'primary': True}],\n",
       "       'photos': {'count': 0, 'groups': []},\n",
       "       'venuePage': {'id': '85495566'}},\n",
       "      'referralId': 'e-0-4c154c9a77cea593c401d260-3'},\n",
       "     {'reasons': {'count': 0,\n",
       "       'items': [{'summary': 'This spot is popular',\n",
       "         'type': 'general',\n",
       "         'reasonName': 'globalInteractionReason'}]},\n",
       "      'venue': {'id': '4a8f2f39f964a520471420e3',\n",
       "       'name': 'Takahachi',\n",
       "       'location': {'address': '145 Duane St',\n",
       "        'crossStreet': 'btwn W Broadway & Church St',\n",
       "        'lat': 40.71652647412374,\n",
       "        'lng': -74.00810108466207,\n",
       "        'labeledLatLngs': [{'label': 'display',\n",
       "          'lat': 40.71652647412374,\n",
       "          'lng': -74.00810108466207},\n",
       "         {'label': 'entrance', 'lat': 40.716508, 'lng': -74.007989}],\n",
       "        'distance': 146,\n",
       "        'postalCode': '10013',\n",
       "        'cc': 'US',\n",
       "        'city': 'New York',\n",
       "        'state': 'NY',\n",
       "        'country': 'United States',\n",
       "        'formattedAddress': ['145 Duane St (btwn W Broadway & Church St)',\n",
       "         'New York, NY 10013',\n",
       "         'United States']},\n",
       "       'categories': [{'id': '4bf58dd8d48988d1d2941735',\n",
       "         'name': 'Sushi Restaurant',\n",
       "         'pluralName': 'Sushi Restaurants',\n",
       "         'shortName': 'Sushi',\n",
       "         'icon': {'prefix': 'https://ss3.4sqi.net/img/categories_v2/food/sushi_',\n",
       "          'suffix': '.png'},\n",
       "         'primary': True}],\n",
       "       'photos': {'count': 0, 'groups': []}},\n",
       "      'referralId': 'e-0-4a8f2f39f964a520471420e3-4'},\n",
       "     {'reasons': {'count': 0,\n",
       "       'items': [{'summary': 'This spot is popular',\n",
       "         'type': 'general',\n",
       "         'reasonName': 'globalInteractionReason'}]},\n",
       "      'venue': {'id': '57ad129c498e05b086594d72',\n",
       "       'name': 'Heyday',\n",
       "       'location': {'address': '92 Reade St',\n",
       "        'lat': 40.715726,\n",
       "        'lng': -74.007767,\n",
       "        'labeledLatLngs': [{'label': 'display',\n",
       "          'lat': 40.715726,\n",
       "          'lng': -74.007767},\n",
       "         {'label': 'entrance', 'lat': 40.715654, 'lng': -74.00782}],\n",
       "        'distance': 100,\n",
       "        'postalCode': '10013',\n",
       "        'cc': 'US',\n",
       "        'city': 'New York',\n",
       "        'state': 'NY',\n",
       "        'country': 'United States',\n",
       "        'formattedAddress': ['92 Reade St',\n",
       "         'New York, NY 10013',\n",
       "         'United States']},\n",
       "       'categories': [{'id': '4bf58dd8d48988d1ed941735',\n",
       "         'name': 'Spa',\n",
       "         'pluralName': 'Spas',\n",
       "         'shortName': 'Spa',\n",
       "         'icon': {'prefix': 'https://ss3.4sqi.net/img/categories_v2/shops/spa_',\n",
       "          'suffix': '.png'},\n",
       "         'primary': True}],\n",
       "       'photos': {'count': 0, 'groups': []}},\n",
       "      'referralId': 'e-0-57ad129c498e05b086594d72-5'},\n",
       "     {'reasons': {'count': 0,\n",
       "       'items': [{'summary': 'This spot is popular',\n",
       "         'type': 'general',\n",
       "         'reasonName': 'globalInteractionReason'}]},\n",
       "      'venue': {'id': '4adcf23cf964a520cc6221e3',\n",
       "       'name': 'Chambers Street Wines',\n",
       "       'location': {'address': '148 Chambers St',\n",
       "        'crossStreet': 'btwn West Broadway & Hudson St',\n",
       "        'lat': 40.715773063928374,\n",
       "        'lng': -74.00971823312332,\n",
       "        'labeledLatLngs': [{'label': 'display',\n",
       "          'lat': 40.715773063928374,\n",
       "          'lng': -74.00971823312332},\n",
       "         {'label': 'entrance', 'lat': 40.715696, 'lng': -74.00988}],\n",
       "        'distance': 88,\n",
       "        'postalCode': '10007',\n",
       "        'cc': 'US',\n",
       "        'city': 'New York',\n",
       "        'state': 'NY',\n",
       "        'country': 'United States',\n",
       "        'formattedAddress': ['148 Chambers St (btwn West Broadway & Hudson St)',\n",
       "         'New York, NY 10007',\n",
       "         'United States']},\n",
       "       'categories': [{'id': '4bf58dd8d48988d119951735',\n",
       "         'name': 'Wine Shop',\n",
       "         'pluralName': 'Wine Shops',\n",
       "         'shortName': 'Wine Shop',\n",
       "         'icon': {'prefix': 'https://ss3.4sqi.net/img/categories_v2/shops/food_wineshop_',\n",
       "          'suffix': '.png'},\n",
       "         'primary': True}],\n",
       "       'photos': {'count': 0, 'groups': []}},\n",
       "      'referralId': 'e-0-4adcf23cf964a520cc6221e3-6'},\n",
       "     {'reasons': {'count': 0,\n",
       "       'items': [{'summary': 'This spot is popular',\n",
       "         'type': 'general',\n",
       "         'reasonName': 'globalInteractionReason'}]},\n",
       "      'venue': {'id': '5dc6f6a5ea8dfb00080f6faa',\n",
       "       'name': 'Lekka Burger',\n",
       "       'location': {'address': '81 Warren St',\n",
       "        'crossStreet': 'btw Greenwich & West Broadway',\n",
       "        'lat': 40.715246,\n",
       "        'lng': -74.010559,\n",
       "        'labeledLatLngs': [{'label': 'display',\n",
       "          'lat': 40.715246,\n",
       "          'lng': -74.010559}],\n",
       "        'distance': 144,\n",
       "        'postalCode': '10007',\n",
       "        'cc': 'US',\n",
       "        'city': 'New York',\n",
       "        'state': 'NY',\n",
       "        'country': 'United States',\n",
       "        'formattedAddress': ['81 Warren St (btw Greenwich & West Broadway)',\n",
       "         'New York, NY 10007',\n",
       "         'United States']},\n",
       "       'categories': [{'id': '4bf58dd8d48988d16c941735',\n",
       "         'name': 'Burger Joint',\n",
       "         'pluralName': 'Burger Joints',\n",
       "         'shortName': 'Burgers',\n",
       "         'icon': {'prefix': 'https://ss3.4sqi.net/img/categories_v2/food/burger_',\n",
       "          'suffix': '.png'},\n",
       "         'primary': True}],\n",
       "       'delivery': {'id': '2407406',\n",
       "        'url': 'https://www.seamless.com/menu/lekka-burger-81-warren-st-new-york/2407406?affiliate=1131&utm_source=foursquare-affiliate-network&utm_medium=affiliate&utm_campaign=1131&utm_content=2407406',\n",
       "        'provider': {'name': 'seamless',\n",
       "         'icon': {'prefix': 'https://fastly.4sqi.net/img/general/cap/',\n",
       "          'sizes': [40, 50],\n",
       "          'name': '/delivery_provider_seamless_20180129.png'}}},\n",
       "       'photos': {'count': 0, 'groups': []}},\n",
       "      'referralId': 'e-0-5dc6f6a5ea8dfb00080f6faa-7'},\n",
       "     {'reasons': {'count': 0,\n",
       "       'items': [{'summary': 'This spot is popular',\n",
       "         'type': 'general',\n",
       "         'reasonName': 'globalInteractionReason'}]},\n",
       "      'venue': {'id': '4a6e331af964a52031d41fe3',\n",
       "       'name': 'Equinox Tribeca',\n",
       "       'location': {'address': '54 Murray St',\n",
       "        'crossStreet': 'at W Broadway',\n",
       "        'lat': 40.71409860726041,\n",
       "        'lng': -74.0096857179283,\n",
       "        'labeledLatLngs': [{'label': 'display',\n",
       "          'lat': 40.71409860726041,\n",
       "          'lng': -74.0096857179283}],\n",
       "        'distance': 154,\n",
       "        'postalCode': '10007',\n",
       "        'cc': 'US',\n",
       "        'city': 'New York',\n",
       "        'state': 'NY',\n",
       "        'country': 'United States',\n",
       "        'formattedAddress': ['54 Murray St (at W Broadway)',\n",
       "         'New York, NY 10007',\n",
       "         'United States']},\n",
       "       'categories': [{'id': '4bf58dd8d48988d176941735',\n",
       "         'name': 'Gym',\n",
       "         'pluralName': 'Gyms',\n",
       "         'shortName': 'Gym',\n",
       "         'icon': {'prefix': 'https://ss3.4sqi.net/img/categories_v2/building/gym_',\n",
       "          'suffix': '.png'},\n",
       "         'primary': True}],\n",
       "       'photos': {'count': 0, 'groups': []}},\n",
       "      'referralId': 'e-0-4a6e331af964a52031d41fe3-8'},\n",
       "     {'reasons': {'count': 0,\n",
       "       'items': [{'summary': 'This spot is popular',\n",
       "         'type': 'general',\n",
       "         'reasonName': 'globalInteractionReason'}]},\n",
       "      'venue': {'id': '4cd89eeb6e8b5941660c64d2',\n",
       "       'name': 'Weather Up',\n",
       "       'location': {'address': '159 Duane St',\n",
       "        'crossStreet': 'btwn Hudson St. & W Broadway',\n",
       "        'lat': 40.71674084163369,\n",
       "        'lng': -74.0086664438893,\n",
       "        'labeledLatLngs': [{'label': 'display',\n",
       "          'lat': 40.71674084163369,\n",
       "          'lng': -74.0086664438893},\n",
       "         {'label': 'entrance', 'lat': 40.71685, 'lng': -74.008729}],\n",
       "        'distance': 157,\n",
       "        'postalCode': '10013',\n",
       "        'cc': 'US',\n",
       "        'city': 'New York',\n",
       "        'state': 'NY',\n",
       "        'country': 'United States',\n",
       "        'formattedAddress': ['159 Duane St (btwn Hudson St. & W Broadway)',\n",
       "         'New York, NY 10013',\n",
       "         'United States']},\n",
       "       'categories': [{'id': '4bf58dd8d48988d11e941735',\n",
       "         'name': 'Cocktail Bar',\n",
       "         'pluralName': 'Cocktail Bars',\n",
       "         'shortName': 'Cocktail',\n",
       "         'icon': {'prefix': 'https://ss3.4sqi.net/img/categories_v2/nightlife/cocktails_',\n",
       "          'suffix': '.png'},\n",
       "         'primary': True}],\n",
       "       'photos': {'count': 0, 'groups': []}},\n",
       "      'referralId': 'e-0-4cd89eeb6e8b5941660c64d2-9'},\n",
       "     {'reasons': {'count': 0,\n",
       "       'items': [{'summary': 'This spot is popular',\n",
       "         'type': 'general',\n",
       "         'reasonName': 'globalInteractionReason'}]},\n",
       "      'venue': {'id': '50ba9119e4b071a4bae6dc10',\n",
       "       'name': 'Nish Nūsh',\n",
       "       'location': {'address': '88 Reade St',\n",
       "        'crossStreet': 'at Church St',\n",
       "        'lat': 40.71553710116416,\n",
       "        'lng': -74.00772452925565,\n",
       "        'labeledLatLngs': [{'label': 'display',\n",
       "          'lat': 40.71553710116416,\n",
       "          'lng': -74.00772452925565},\n",
       "         {'label': 'entrance', 'lat': 40.715615, 'lng': -74.00773}],\n",
       "        'distance': 97,\n",
       "        'postalCode': '10013',\n",
       "        'cc': 'US',\n",
       "        'city': 'New York',\n",
       "        'state': 'NY',\n",
       "        'country': 'United States',\n",
       "        'formattedAddress': ['88 Reade St (at Church St)',\n",
       "         'New York, NY 10013',\n",
       "         'United States']},\n",
       "       'categories': [{'id': '4bf58dd8d48988d10b941735',\n",
       "         'name': 'Falafel Restaurant',\n",
       "         'pluralName': 'Falafel Restaurants',\n",
       "         'shortName': 'Falafel',\n",
       "         'icon': {'prefix': 'https://ss3.4sqi.net/img/categories_v2/food/falafel_',\n",
       "          'suffix': '.png'},\n",
       "         'primary': True}],\n",
       "       'photos': {'count': 0, 'groups': []},\n",
       "       'venuePage': {'id': '93083181'}},\n",
       "      'referralId': 'e-0-50ba9119e4b071a4bae6dc10-10'},\n",
       "     {'reasons': {'count': 0,\n",
       "       'items': [{'summary': 'This spot is popular',\n",
       "         'type': 'general',\n",
       "         'reasonName': 'globalInteractionReason'}]},\n",
       "      'venue': {'id': '49bc3b0af964a52020541fe3',\n",
       "       'name': 'Whole Foods Market',\n",
       "       'location': {'address': '270 Greenwich Street',\n",
       "        'crossStreet': 'at Warren St',\n",
       "        'lat': 40.715579155420606,\n",
       "        'lng': -74.01136823958119,\n",
       "        'labeledLatLngs': [{'label': 'display',\n",
       "          'lat': 40.715579155420606,\n",
       "          'lng': -74.01136823958119}],\n",
       "        'distance': 214,\n",
       "        'postalCode': '10007',\n",
       "        'cc': 'US',\n",
       "        'neighborhood': 'Tribeca',\n",
       "        'city': 'New York',\n",
       "        'state': 'NY',\n",
       "        'country': 'United States',\n",
       "        'formattedAddress': ['270 Greenwich Street (at Warren St)',\n",
       "         'New York, NY 10007',\n",
       "         'United States']},\n",
       "       'categories': [{'id': '4bf58dd8d48988d118951735',\n",
       "         'name': 'Grocery Store',\n",
       "         'pluralName': 'Grocery Stores',\n",
       "         'shortName': 'Grocery Store',\n",
       "         'icon': {'prefix': 'https://ss3.4sqi.net/img/categories_v2/shops/food_grocery_',\n",
       "          'suffix': '.png'},\n",
       "         'primary': True}],\n",
       "       'photos': {'count': 0, 'groups': []}},\n",
       "      'referralId': 'e-0-49bc3b0af964a52020541fe3-11'},\n",
       "     {'reasons': {'count': 0,\n",
       "       'items': [{'summary': 'This spot is popular',\n",
       "         'type': 'general',\n",
       "         'reasonName': 'globalInteractionReason'}]},\n",
       "      'venue': {'id': '48510cf9f964a520a5501fe3',\n",
       "       'name': 'Restaurant Marc Forgione',\n",
       "       'location': {'address': '134 Reade St',\n",
       "        'crossStreet': 'btwn Hudson and Greenwich St',\n",
       "        'lat': 40.71637984317071,\n",
       "        'lng': -74.00962933453428,\n",
       "        'labeledLatLngs': [{'label': 'display',\n",
       "          'lat': 40.71637984317071,\n",
       "          'lng': -74.00962933453428}],\n",
       "        'distance': 133,\n",
       "        'postalCode': '10013',\n",
       "        'cc': 'US',\n",
       "        'city': 'New York',\n",
       "        'state': 'NY',\n",
       "        'country': 'United States',\n",
       "        'formattedAddress': ['134 Reade St (btwn Hudson and Greenwich St)',\n",
       "         'New York, NY 10013',\n",
       "         'United States']},\n",
       "       'categories': [{'id': '4bf58dd8d48988d157941735',\n",
       "         'name': 'New American Restaurant',\n",
       "         'pluralName': 'New American Restaurants',\n",
       "         'shortName': 'New American',\n",
       "         'icon': {'prefix': 'https://ss3.4sqi.net/img/categories_v2/food/newamerican_',\n",
       "          'suffix': '.png'},\n",
       "         'primary': True}],\n",
       "       'delivery': {'id': '2218939',\n",
       "        'url': 'https://www.seamless.com/menu/restaurant-marc-forgione-134-reade-st-new-york/2218939?affiliate=1131&utm_source=foursquare-affiliate-network&utm_medium=affiliate&utm_campaign=1131&utm_content=2218939',\n",
       "        'provider': {'name': 'seamless',\n",
       "         'icon': {'prefix': 'https://fastly.4sqi.net/img/general/cap/',\n",
       "          'sizes': [40, 50],\n",
       "          'name': '/delivery_provider_seamless_20180129.png'}}},\n",
       "       'photos': {'count': 0, 'groups': []}},\n",
       "      'referralId': 'e-0-48510cf9f964a520a5501fe3-12'},\n",
       "     {'reasons': {'count': 0,\n",
       "       'items': [{'summary': 'This spot is popular',\n",
       "         'type': 'general',\n",
       "         'reasonName': 'globalInteractionReason'}]},\n",
       "      'venue': {'id': '4dadcb124df0522cc5622202',\n",
       "       'name': \"Tiny's and the Bar Upstairs\",\n",
       "       'location': {'address': '135 W Broadway',\n",
       "        'crossStreet': 'between Duane St & Thomas St',\n",
       "        'lat': 40.71679304855808,\n",
       "        'lng': -74.00821998878457,\n",
       "        'labeledLatLngs': [{'label': 'display',\n",
       "          'lat': 40.71679304855808,\n",
       "          'lng': -74.00821998878457}],\n",
       "        'distance': 170,\n",
       "        'postalCode': '10013',\n",
       "        'cc': 'US',\n",
       "        'city': 'New York',\n",
       "        'state': 'NY',\n",
       "        'country': 'United States',\n",
       "        'formattedAddress': ['135 W Broadway (between Duane St & Thomas St)',\n",
       "         'New York, NY 10013',\n",
       "         'United States']},\n",
       "       'categories': [{'id': '4bf58dd8d48988d14e941735',\n",
       "         'name': 'American Restaurant',\n",
       "         'pluralName': 'American Restaurants',\n",
       "         'shortName': 'American',\n",
       "         'icon': {'prefix': 'https://ss3.4sqi.net/img/categories_v2/food/default_',\n",
       "          'suffix': '.png'},\n",
       "         'primary': True}],\n",
       "       'delivery': {'id': '2236902',\n",
       "        'url': 'https://www.seamless.com/menu/tinys--the-bar-upstairs-135-west-broadway-new-york/2236902?affiliate=1131&utm_source=foursquare-affiliate-network&utm_medium=affiliate&utm_campaign=1131&utm_content=2236902',\n",
       "        'provider': {'name': 'seamless',\n",
       "         'icon': {'prefix': 'https://fastly.4sqi.net/img/general/cap/',\n",
       "          'sizes': [40, 50],\n",
       "          'name': '/delivery_provider_seamless_20180129.png'}}},\n",
       "       'photos': {'count': 0, 'groups': []},\n",
       "       'venuePage': {'id': '84453413'}},\n",
       "      'referralId': 'e-0-4dadcb124df0522cc5622202-13'},\n",
       "     {'reasons': {'count': 0,\n",
       "       'items': [{'summary': 'This spot is popular',\n",
       "         'type': 'general',\n",
       "         'reasonName': 'globalInteractionReason'}]},\n",
       "      'venue': {'id': '51df85c9498edb5ea3ad2e2a',\n",
       "       'name': 'Khe-Yo',\n",
       "       'location': {'address': '157 Duane Street',\n",
       "        'crossStreet': 'btwn Hudson St & W Broadway',\n",
       "        'lat': 40.716752816876635,\n",
       "        'lng': -74.00858376295221,\n",
       "        'labeledLatLngs': [{'label': 'display',\n",
       "          'lat': 40.716752816876635,\n",
       "          'lng': -74.00858376295221}],\n",
       "        'distance': 159,\n",
       "        'postalCode': '10013',\n",
       "        'cc': 'US',\n",
       "        'city': 'New York',\n",
       "        'state': 'NY',\n",
       "        'country': 'United States',\n",
       "        'formattedAddress': ['157 Duane Street (btwn Hudson St & W Broadway)',\n",
       "         'New York, NY 10013',\n",
       "         'United States']},\n",
       "       'categories': [{'id': '4bf58dd8d48988d142941735',\n",
       "         'name': 'Asian Restaurant',\n",
       "         'pluralName': 'Asian Restaurants',\n",
       "         'shortName': 'Asian',\n",
       "         'icon': {'prefix': 'https://ss3.4sqi.net/img/categories_v2/food/asian_',\n",
       "          'suffix': '.png'},\n",
       "         'primary': True}],\n",
       "       'delivery': {'id': '1983382',\n",
       "        'url': 'https://www.seamless.com/menu/khe-yo-157-duane-st-new-york/1983382?affiliate=1131&utm_source=foursquare-affiliate-network&utm_medium=affiliate&utm_campaign=1131&utm_content=1983382',\n",
       "        'provider': {'name': 'seamless',\n",
       "         'icon': {'prefix': 'https://fastly.4sqi.net/img/general/cap/',\n",
       "          'sizes': [40, 50],\n",
       "          'name': '/delivery_provider_seamless_20180129.png'}}},\n",
       "       'photos': {'count': 0, 'groups': []},\n",
       "       'venuePage': {'id': '350356912'}},\n",
       "      'referralId': 'e-0-51df85c9498edb5ea3ad2e2a-14'},\n",
       "     {'reasons': {'count': 0,\n",
       "       'items': [{'summary': 'This spot is popular',\n",
       "         'type': 'general',\n",
       "         'reasonName': 'globalInteractionReason'}]},\n",
       "      'venue': {'id': '3fd66200f964a52083e61ee3',\n",
       "       'name': 'The Odeon',\n",
       "       'location': {'address': '145 W Broadway',\n",
       "        'crossStreet': 'at Thomas St',\n",
       "        'lat': 40.71701011409906,\n",
       "        'lng': -74.00804244562225,\n",
       "        'labeledLatLngs': [{'label': 'display',\n",
       "          'lat': 40.71701011409906,\n",
       "          'lng': -74.00804244562225}],\n",
       "        'distance': 198,\n",
       "        'postalCode': '10013',\n",
       "        'cc': 'US',\n",
       "        'city': 'New York',\n",
       "        'state': 'NY',\n",
       "        'country': 'United States',\n",
       "        'formattedAddress': ['145 W Broadway (at Thomas St)',\n",
       "         'New York, NY 10013',\n",
       "         'United States']},\n",
       "       'categories': [{'id': '4bf58dd8d48988d10c941735',\n",
       "         'name': 'French Restaurant',\n",
       "         'pluralName': 'French Restaurants',\n",
       "         'shortName': 'French',\n",
       "         'icon': {'prefix': 'https://ss3.4sqi.net/img/categories_v2/food/french_',\n",
       "          'suffix': '.png'},\n",
       "         'primary': True}],\n",
       "       'photos': {'count': 0, 'groups': []},\n",
       "       'venuePage': {'id': '97281190'}},\n",
       "      'referralId': 'e-0-3fd66200f964a52083e61ee3-15'},\n",
       "     {'reasons': {'count': 0,\n",
       "       'items': [{'summary': 'This spot is popular',\n",
       "         'type': 'general',\n",
       "         'reasonName': 'globalInteractionReason'}]},\n",
       "      'venue': {'id': '53910ac3498e57a5dc0eb160',\n",
       "       'name': 'Exceed Physical Culture',\n",
       "       'location': {'address': '97 Reade St',\n",
       "        'crossStreet': 'bet W Broadway & Church St',\n",
       "        'lat': 40.7156286200256,\n",
       "        'lng': -74.0079922583853,\n",
       "        'labeledLatLngs': [{'label': 'display',\n",
       "          'lat': 40.7156286200256,\n",
       "          'lng': -74.0079922583853},\n",
       "         {'label': 'entrance', 'lat': 40.715589, 'lng': -74.008105}],\n",
       "        'distance': 79,\n",
       "        'postalCode': '10013',\n",
       "        'cc': 'US',\n",
       "        'neighborhood': 'Tribeca',\n",
       "        'city': 'New York',\n",
       "        'state': 'NY',\n",
       "        'country': 'United States',\n",
       "        'formattedAddress': ['97 Reade St (bet W Broadway & Church St)',\n",
       "         'New York, NY 10013',\n",
       "         'United States']},\n",
       "       'categories': [{'id': '4bf58dd8d48988d175941735',\n",
       "         'name': 'Gym / Fitness Center',\n",
       "         'pluralName': 'Gyms or Fitness Centers',\n",
       "         'shortName': 'Gym / Fitness',\n",
       "         'icon': {'prefix': 'https://ss3.4sqi.net/img/categories_v2/building/gym_',\n",
       "          'suffix': '.png'},\n",
       "         'primary': True}],\n",
       "       'photos': {'count': 0, 'groups': []}},\n",
       "      'referralId': 'e-0-53910ac3498e57a5dc0eb160-16'},\n",
       "     {'reasons': {'count': 0,\n",
       "       'items': [{'summary': 'This spot is popular',\n",
       "         'type': 'general',\n",
       "         'reasonName': 'globalInteractionReason'}]},\n",
       "      'venue': {'id': '545c0436498e798e22ce4b2a',\n",
       "       'name': 'Little Park',\n",
       "       'location': {'address': '85 W Broadway',\n",
       "        'crossStreet': 'at Chambers St',\n",
       "        'lat': 40.715486585249735,\n",
       "        'lng': -74.00913313510836,\n",
       "        'labeledLatLngs': [{'label': 'display',\n",
       "          'lat': 40.715486585249735,\n",
       "          'lng': -74.00913313510836},\n",
       "         {'label': 'entrance', 'lat': 40.715227, 'lng': -74.009263}],\n",
       "        'distance': 29,\n",
       "        'postalCode': '10007',\n",
       "        'cc': 'US',\n",
       "        'city': 'New York',\n",
       "        'state': 'NY',\n",
       "        'country': 'United States',\n",
       "        'formattedAddress': ['85 W Broadway (at Chambers St)',\n",
       "         'New York, NY 10007',\n",
       "         'United States']},\n",
       "       'categories': [{'id': '4bf58dd8d48988d14e941735',\n",
       "         'name': 'American Restaurant',\n",
       "         'pluralName': 'American Restaurants',\n",
       "         'shortName': 'American',\n",
       "         'icon': {'prefix': 'https://ss3.4sqi.net/img/categories_v2/food/default_',\n",
       "          'suffix': '.png'},\n",
       "         'primary': True}],\n",
       "       'photos': {'count': 0, 'groups': []},\n",
       "       'venuePage': {'id': '102902274'}},\n",
       "      'referralId': 'e-0-545c0436498e798e22ce4b2a-17'},\n",
       "     {'reasons': {'count': 0,\n",
       "       'items': [{'summary': 'This spot is popular',\n",
       "         'type': 'general',\n",
       "         'reasonName': 'globalInteractionReason'}]},\n",
       "      'venue': {'id': '4a411ea5f964a520cba41fe3',\n",
       "       'name': 'Ward III',\n",
       "       'location': {'address': '111 Reade St',\n",
       "        'crossStreet': 'btwn W Broadway & Church St',\n",
       "        'lat': 40.715885126086015,\n",
       "        'lng': -74.00871361902418,\n",
       "        'labeledLatLngs': [{'label': 'display',\n",
       "          'lat': 40.715885126086015,\n",
       "          'lng': -74.00871361902418},\n",
       "         {'label': 'entrance', 'lat': 40.715831, 'lng': -74.008628}],\n",
       "        'distance': 62,\n",
       "        'postalCode': '10013',\n",
       "        'cc': 'US',\n",
       "        'city': 'New York',\n",
       "        'state': 'NY',\n",
       "        'country': 'United States',\n",
       "        'formattedAddress': ['111 Reade St (btwn W Broadway & Church St)',\n",
       "         'New York, NY 10013',\n",
       "         'United States']},\n",
       "       'categories': [{'id': '4bf58dd8d48988d11e941735',\n",
       "         'name': 'Cocktail Bar',\n",
       "         'pluralName': 'Cocktail Bars',\n",
       "         'shortName': 'Cocktail',\n",
       "         'icon': {'prefix': 'https://ss3.4sqi.net/img/categories_v2/nightlife/cocktails_',\n",
       "          'suffix': '.png'},\n",
       "         'primary': True}],\n",
       "       'photos': {'count': 0, 'groups': []},\n",
       "       'venuePage': {'id': '49730823'}},\n",
       "      'referralId': 'e-0-4a411ea5f964a520cba41fe3-18'},\n",
       "     {'reasons': {'count': 0,\n",
       "       'items': [{'summary': 'This spot is popular',\n",
       "         'type': 'general',\n",
       "         'reasonName': 'globalInteractionReason'}]},\n",
       "      'venue': {'id': '4a4baaf8f964a52091ac1fe3',\n",
       "       'name': \"Zucker's Bagels & Smoked Fish\",\n",
       "       'location': {'address': '146 Chambers St',\n",
       "        'crossStreet': 'btwn W. Broadway & Greenwich St',\n",
       "        'lat': 40.71558,\n",
       "        'lng': -74.00985,\n",
       "        'labeledLatLngs': [{'label': 'display',\n",
       "          'lat': 40.71558,\n",
       "          'lng': -74.00985}],\n",
       "        'distance': 88,\n",
       "        'postalCode': '10007',\n",
       "        'cc': 'US',\n",
       "        'city': 'New York',\n",
       "        'state': 'NY',\n",
       "        'country': 'United States',\n",
       "        'formattedAddress': ['146 Chambers St (btwn W. Broadway & Greenwich St)',\n",
       "         'New York, NY 10007',\n",
       "         'United States']},\n",
       "       'categories': [{'id': '4bf58dd8d48988d179941735',\n",
       "         'name': 'Bagel Shop',\n",
       "         'pluralName': 'Bagel Shops',\n",
       "         'shortName': 'Bagels',\n",
       "         'icon': {'prefix': 'https://ss3.4sqi.net/img/categories_v2/food/bagels_',\n",
       "          'suffix': '.png'},\n",
       "         'primary': True}],\n",
       "       'delivery': {'id': '277435',\n",
       "        'url': 'https://www.seamless.com/menu/zuckers-bagels--smoked-fish-146-chambers-st-new-york/277435?affiliate=1131&utm_source=foursquare-affiliate-network&utm_medium=affiliate&utm_campaign=1131&utm_content=277435',\n",
       "        'provider': {'name': 'seamless',\n",
       "         'icon': {'prefix': 'https://fastly.4sqi.net/img/general/cap/',\n",
       "          'sizes': [40, 50],\n",
       "          'name': '/delivery_provider_seamless_20180129.png'}}},\n",
       "       'photos': {'count': 0, 'groups': []}},\n",
       "      'referralId': 'e-0-4a4baaf8f964a52091ac1fe3-19'},\n",
       "     {'reasons': {'count': 0,\n",
       "       'items': [{'summary': 'This spot is popular',\n",
       "         'type': 'general',\n",
       "         'reasonName': 'globalInteractionReason'}]},\n",
       "      'venue': {'id': '49ccd495f964a52091591fe3',\n",
       "       'name': 'Kaffe 1668',\n",
       "       'location': {'address': '275 Greenwich St',\n",
       "        'crossStreet': 'at Murray St',\n",
       "        'lat': 40.71504512558996,\n",
       "        'lng': -74.0115087102821,\n",
       "        'labeledLatLngs': [{'label': 'display',\n",
       "          'lat': 40.71504512558996,\n",
       "          'lng': -74.0115087102821}],\n",
       "        'distance': 226,\n",
       "        'postalCode': '10007',\n",
       "        'cc': 'US',\n",
       "        'city': 'New York',\n",
       "        'state': 'NY',\n",
       "        'country': 'United States',\n",
       "        'formattedAddress': ['275 Greenwich St (at Murray St)',\n",
       "         'New York, NY 10007',\n",
       "         'United States']},\n",
       "       'categories': [{'id': '4bf58dd8d48988d1e0931735',\n",
       "         'name': 'Coffee Shop',\n",
       "         'pluralName': 'Coffee Shops',\n",
       "         'shortName': 'Coffee Shop',\n",
       "         'icon': {'prefix': 'https://ss3.4sqi.net/img/categories_v2/food/coffeeshop_',\n",
       "          'suffix': '.png'},\n",
       "         'primary': True}],\n",
       "       'photos': {'count': 0, 'groups': []},\n",
       "       'venuePage': {'id': '43231093'}},\n",
       "      'referralId': 'e-0-49ccd495f964a52091591fe3-20'},\n",
       "     {'reasons': {'count': 0,\n",
       "       'items': [{'summary': 'This spot is popular',\n",
       "         'type': 'general',\n",
       "         'reasonName': 'globalInteractionReason'}]},\n",
       "      'venue': {'id': '4a9bcc2ff964a5203b3520e3',\n",
       "       'name': 'Washington Market Park',\n",
       "       'location': {'address': 'Greenwich St',\n",
       "        'crossStreet': 'at Reade St',\n",
       "        'lat': 40.71704598853704,\n",
       "        'lng': -74.01109457015991,\n",
       "        'labeledLatLngs': [{'label': 'display',\n",
       "          'lat': 40.71704598853704,\n",
       "          'lng': -74.01109457015991}],\n",
       "        'distance': 268,\n",
       "        'cc': 'US',\n",
       "        'city': 'New York',\n",
       "        'state': 'NY',\n",
       "        'country': 'United States',\n",
       "        'formattedAddress': ['Greenwich St (at Reade St)',\n",
       "         'New York, NY',\n",
       "         'United States']},\n",
       "       'categories': [{'id': '4bf58dd8d48988d1e7941735',\n",
       "         'name': 'Playground',\n",
       "         'pluralName': 'Playgrounds',\n",
       "         'shortName': 'Playground',\n",
       "         'icon': {'prefix': 'https://ss3.4sqi.net/img/categories_v2/parks_outdoors/playground_',\n",
       "          'suffix': '.png'},\n",
       "         'primary': True}],\n",
       "       'photos': {'count': 0, 'groups': []}},\n",
       "      'referralId': 'e-0-4a9bcc2ff964a5203b3520e3-21'},\n",
       "     {'reasons': {'count': 0,\n",
       "       'items': [{'summary': 'This spot is popular',\n",
       "         'type': 'general',\n",
       "         'reasonName': 'globalInteractionReason'}]},\n",
       "      'venue': {'id': '4c3cb549b36ac9285d7a0486',\n",
       "       'name': 'Duane Park',\n",
       "       'location': {'address': 'Duane St',\n",
       "        'crossStreet': 'at Hudson St',\n",
       "        'lat': 40.71717275801168,\n",
       "        'lng': -74.00932869125117,\n",
       "        'labeledLatLngs': [{'label': 'display',\n",
       "          'lat': 40.71717275801168,\n",
       "          'lng': -74.00932869125117}],\n",
       "        'distance': 208,\n",
       "        'cc': 'US',\n",
       "        'city': 'New York',\n",
       "        'state': 'NY',\n",
       "        'country': 'United States',\n",
       "        'formattedAddress': ['Duane St (at Hudson St)',\n",
       "         'New York, NY',\n",
       "         'United States']},\n",
       "       'categories': [{'id': '4bf58dd8d48988d163941735',\n",
       "         'name': 'Park',\n",
       "         'pluralName': 'Parks',\n",
       "         'shortName': 'Park',\n",
       "         'icon': {'prefix': 'https://ss3.4sqi.net/img/categories_v2/parks_outdoors/park_',\n",
       "          'suffix': '.png'},\n",
       "         'primary': True}],\n",
       "       'photos': {'count': 0, 'groups': []}},\n",
       "      'referralId': 'e-0-4c3cb549b36ac9285d7a0486-22'},\n",
       "     {'reasons': {'count': 0,\n",
       "       'items': [{'summary': 'This spot is popular',\n",
       "         'type': 'general',\n",
       "         'reasonName': 'globalInteractionReason'}]},\n",
       "      'venue': {'id': '4ea0afbf9adf1e334e4cc0e6',\n",
       "       'name': 'Laughing Man Coffee & Tea',\n",
       "       'location': {'address': '184 Duane St',\n",
       "        'crossStreet': 'btwn Greenwich & Hudson St.',\n",
       "        'lat': 40.7173944529165,\n",
       "        'lng': -74.01010324607125,\n",
       "        'labeledLatLngs': [{'label': 'display',\n",
       "          'lat': 40.7173944529165,\n",
       "          'lng': -74.01010324607125}],\n",
       "        'distance': 252,\n",
       "        'postalCode': '10013',\n",
       "        'cc': 'US',\n",
       "        'neighborhood': 'Tribeca',\n",
       "        'city': 'New York',\n",
       "        'state': 'NY',\n",
       "        'country': 'United States',\n",
       "        'formattedAddress': ['184 Duane St (btwn Greenwich & Hudson St.)',\n",
       "         'New York, NY 10013',\n",
       "         'United States']},\n",
       "       'categories': [{'id': '4bf58dd8d48988d1e0931735',\n",
       "         'name': 'Coffee Shop',\n",
       "         'pluralName': 'Coffee Shops',\n",
       "         'shortName': 'Coffee Shop',\n",
       "         'icon': {'prefix': 'https://ss3.4sqi.net/img/categories_v2/food/coffeeshop_',\n",
       "          'suffix': '.png'},\n",
       "         'primary': True}],\n",
       "       'photos': {'count': 0, 'groups': []},\n",
       "       'venuePage': {'id': '73541580'}},\n",
       "      'referralId': 'e-0-4ea0afbf9adf1e334e4cc0e6-23'},\n",
       "     {'reasons': {'count': 0,\n",
       "       'items': [{'summary': 'This spot is popular',\n",
       "         'type': 'general',\n",
       "         'reasonName': 'globalInteractionReason'}]},\n",
       "      'venue': {'id': '437bc800f964a520a52a1fe3',\n",
       "       'name': 'Scalini Fedeli',\n",
       "       'location': {'address': '165 Duane St',\n",
       "        'crossStreet': 'at Hudson',\n",
       "        'lat': 40.71722617263501,\n",
       "        'lng': -74.00943297013102,\n",
       "        'labeledLatLngs': [{'label': 'display',\n",
       "          'lat': 40.71722617263501,\n",
       "          'lng': -74.00943297013102}],\n",
       "        'distance': 216,\n",
       "        'postalCode': '10013',\n",
       "        'cc': 'US',\n",
       "        'city': 'New York',\n",
       "        'state': 'NY',\n",
       "        'country': 'United States',\n",
       "        'formattedAddress': ['165 Duane St (at Hudson)',\n",
       "         'New York, NY 10013',\n",
       "         'United States']},\n",
       "       'categories': [{'id': '4bf58dd8d48988d110941735',\n",
       "         'name': 'Italian Restaurant',\n",
       "         'pluralName': 'Italian Restaurants',\n",
       "         'shortName': 'Italian',\n",
       "         'icon': {'prefix': 'https://ss3.4sqi.net/img/categories_v2/food/italian_',\n",
       "          'suffix': '.png'},\n",
       "         'primary': True}],\n",
       "       'photos': {'count': 0, 'groups': []}},\n",
       "      'referralId': 'e-0-437bc800f964a520a52a1fe3-24'},\n",
       "     {'reasons': {'count': 0,\n",
       "       'items': [{'summary': 'This spot is popular',\n",
       "         'type': 'general',\n",
       "         'reasonName': 'globalInteractionReason'}]},\n",
       "      'venue': {'id': '4a8c4baef964a520960d20e3',\n",
       "       'name': 'Tribeca Greenmarket',\n",
       "       'location': {'address': 'Greenwich St',\n",
       "        'crossStreet': 'btw Chambers St & Duane St',\n",
       "        'lat': 40.716802033574126,\n",
       "        'lng': -74.01087999343872,\n",
       "        'labeledLatLngs': [{'label': 'display',\n",
       "          'lat': 40.716802033574126,\n",
       "          'lng': -74.01087999343872}],\n",
       "        'distance': 236,\n",
       "        'postalCode': '10013',\n",
       "        'cc': 'US',\n",
       "        'city': 'New York',\n",
       "        'state': 'NY',\n",
       "        'country': 'United States',\n",
       "        'formattedAddress': ['Greenwich St (btw Chambers St & Duane St)',\n",
       "         'New York, NY 10013',\n",
       "         'United States']},\n",
       "       'categories': [{'id': '4bf58dd8d48988d1fa941735',\n",
       "         'name': 'Farmers Market',\n",
       "         'pluralName': 'Farmers Markets',\n",
       "         'shortName': \"Farmer's Market\",\n",
       "         'icon': {'prefix': 'https://ss3.4sqi.net/img/categories_v2/shops/food_farmersmarket_',\n",
       "          'suffix': '.png'},\n",
       "         'primary': True}],\n",
       "       'photos': {'count': 0, 'groups': []}},\n",
       "      'referralId': 'e-0-4a8c4baef964a520960d20e3-25'},\n",
       "     {'reasons': {'count': 0,\n",
       "       'items': [{'summary': 'This spot is popular',\n",
       "         'type': 'general',\n",
       "         'reasonName': 'globalInteractionReason'}]},\n",
       "      'venue': {'id': '4a7f140cf964a520b4f21fe3',\n",
       "       'name': 'Frankly Wines',\n",
       "       'location': {'address': '66 W Broadway',\n",
       "        'crossStreet': 'Murray & Warren',\n",
       "        'lat': 40.71447694276293,\n",
       "        'lng': -74.0100388662148,\n",
       "        'labeledLatLngs': [{'label': 'display',\n",
       "          'lat': 40.71447694276293,\n",
       "          'lng': -74.0100388662148},\n",
       "         {'label': 'entrance', 'lat': 40.714708, 'lng': -74.01006}],\n",
       "        'distance': 138,\n",
       "        'postalCode': '10007',\n",
       "        'cc': 'US',\n",
       "        'city': 'New York',\n",
       "        'state': 'NY',\n",
       "        'country': 'United States',\n",
       "        'formattedAddress': ['66 W Broadway (Murray & Warren)',\n",
       "         'New York, NY 10007',\n",
       "         'United States']},\n",
       "       'categories': [{'id': '4bf58dd8d48988d119951735',\n",
       "         'name': 'Wine Shop',\n",
       "         'pluralName': 'Wine Shops',\n",
       "         'shortName': 'Wine Shop',\n",
       "         'icon': {'prefix': 'https://ss3.4sqi.net/img/categories_v2/shops/food_wineshop_',\n",
       "          'suffix': '.png'},\n",
       "         'primary': True}],\n",
       "       'photos': {'count': 0, 'groups': []},\n",
       "       'venuePage': {'id': '32884193'}},\n",
       "      'referralId': 'e-0-4a7f140cf964a520b4f21fe3-26'},\n",
       "     {'reasons': {'count': 0,\n",
       "       'items': [{'summary': 'This spot is popular',\n",
       "         'type': 'general',\n",
       "         'reasonName': 'globalInteractionReason'}]},\n",
       "      'venue': {'id': '4b8dbba4f964a5201e0b33e3',\n",
       "       'name': 'Church Street Boxing Gym',\n",
       "       'location': {'address': '25 Park Pl',\n",
       "        'crossStreet': 'btwn Church St. & Broadway',\n",
       "        'lat': 40.713353574017404,\n",
       "        'lng': -74.00906676030888,\n",
       "        'labeledLatLngs': [{'label': 'display',\n",
       "          'lat': 40.713353574017404,\n",
       "          'lng': -74.00906676030888}],\n",
       "        'distance': 221,\n",
       "        'postalCode': '10007',\n",
       "        'cc': 'US',\n",
       "        'city': 'New York',\n",
       "        'state': 'NY',\n",
       "        'country': 'United States',\n",
       "        'formattedAddress': ['25 Park Pl (btwn Church St. & Broadway)',\n",
       "         'New York, NY 10007',\n",
       "         'United States']},\n",
       "       'categories': [{'id': '52f2ab2ebcbc57f1066b8b47',\n",
       "         'name': 'Boxing Gym',\n",
       "         'pluralName': 'Boxing Gyms',\n",
       "         'shortName': 'Boxing Gym',\n",
       "         'icon': {'prefix': 'https://ss3.4sqi.net/img/categories_v2/building/gym_',\n",
       "          'suffix': '.png'},\n",
       "         'primary': True}],\n",
       "       'photos': {'count': 0, 'groups': []}},\n",
       "      'referralId': 'e-0-4b8dbba4f964a5201e0b33e3-27'},\n",
       "     {'reasons': {'count': 0,\n",
       "       'items': [{'summary': 'This spot is popular',\n",
       "         'type': 'general',\n",
       "         'reasonName': 'globalInteractionReason'}]},\n",
       "      'venue': {'id': '49efcc88f964a52006691fe3',\n",
       "       'name': 'Smyth Hotel',\n",
       "       'location': {'address': '85 W Broadway',\n",
       "        'crossStreet': 'Chambers St',\n",
       "        'lat': 40.7151439,\n",
       "        'lng': -74.0091826,\n",
       "        'labeledLatLngs': [{'label': 'display',\n",
       "          'lat': 40.7151439,\n",
       "          'lng': -74.0091826}],\n",
       "        'distance': 35,\n",
       "        'postalCode': '10007',\n",
       "        'cc': 'US',\n",
       "        'city': 'New York',\n",
       "        'state': 'NY',\n",
       "        'country': 'United States',\n",
       "        'formattedAddress': ['85 W Broadway (Chambers St)',\n",
       "         'New York, NY 10007',\n",
       "         'United States']},\n",
       "       'categories': [{'id': '4bf58dd8d48988d1fa931735',\n",
       "         'name': 'Hotel',\n",
       "         'pluralName': 'Hotels',\n",
       "         'shortName': 'Hotel',\n",
       "         'icon': {'prefix': 'https://ss3.4sqi.net/img/categories_v2/travel/hotel_',\n",
       "          'suffix': '.png'},\n",
       "         'primary': True}],\n",
       "       'photos': {'count': 0, 'groups': []}},\n",
       "      'referralId': 'e-0-49efcc88f964a52006691fe3-28'},\n",
       "     {'reasons': {'count': 0,\n",
       "       'items': [{'summary': 'This spot is popular',\n",
       "         'type': 'general',\n",
       "         'reasonName': 'globalInteractionReason'}]},\n",
       "      'venue': {'id': '58a253c830ecc66c9e5b40a0',\n",
       "       'name': 'The Class by Taryn Toomey',\n",
       "       'location': {'address': '22 Park Pl',\n",
       "        'lat': 40.71275251771485,\n",
       "        'lng': -74.00873355601571,\n",
       "        'labeledLatLngs': [{'label': 'display',\n",
       "          'lat': 40.71275251771485,\n",
       "          'lng': -74.00873355601571},\n",
       "         {'label': 'entrance', 'lat': 40.712781, 'lng': -74.008548}],\n",
       "        'distance': 287,\n",
       "        'postalCode': '10007',\n",
       "        'cc': 'US',\n",
       "        'city': 'New York',\n",
       "        'state': 'NY',\n",
       "        'country': 'United States',\n",
       "        'formattedAddress': ['22 Park Pl',\n",
       "         'New York, NY 10007',\n",
       "         'United States']},\n",
       "       'categories': [{'id': '4bf58dd8d48988d175941735',\n",
       "         'name': 'Gym / Fitness Center',\n",
       "         'pluralName': 'Gyms or Fitness Centers',\n",
       "         'shortName': 'Gym / Fitness',\n",
       "         'icon': {'prefix': 'https://ss3.4sqi.net/img/categories_v2/building/gym_',\n",
       "          'suffix': '.png'},\n",
       "         'primary': True}],\n",
       "       'photos': {'count': 0, 'groups': []}},\n",
       "      'referralId': 'e-0-58a253c830ecc66c9e5b40a0-29'}]}]}}"
      ]
     },
     "execution_count": 39,
     "metadata": {},
     "output_type": "execute_result"
    }
   ],
   "source": [
    "results_pop = requests.get(url_pop).json()\n",
    "results_pop"
   ]
  },
  {
   "cell_type": "code",
   "execution_count": 40,
   "metadata": {},
   "outputs": [
    {
     "data": {
      "text/plain": [
       "'There are 30 popular places to go around Ecco restaurant.'"
      ]
     },
     "execution_count": 40,
     "metadata": {},
     "output_type": "execute_result"
    }
   ],
   "source": [
    "'There are {} popular places to go around Ecco restaurant.'.format(len(results_pop['response']['groups'][0]['items']))"
   ]
  },
  {
   "cell_type": "markdown",
   "metadata": {},
   "source": [
    "**Note:** By now, it should be obvious that any developer must know the structure of any FourSquare output in details in order to work with these data. This last info (number of points of interest around Ecco) is easier to get, the deeper the knowledge of details the developer masters."
   ]
  },
  {
   "cell_type": "markdown",
   "metadata": {
    "button": false,
    "new_sheet": false,
    "run_control": {
     "read_only": false
    }
   },
   "source": [
    "#### Get relevant part of JSON\n"
   ]
  },
  {
   "cell_type": "code",
   "execution_count": 49,
   "metadata": {
    "button": false,
    "collapsed": false,
    "jupyter": {
     "outputs_hidden": false
    },
    "new_sheet": false,
    "run_control": {
     "read_only": false
    }
   },
   "outputs": [
    {
     "name": "stdout",
     "output_type": "stream",
     "text": [
      "<class 'list'>\n",
      "\n"
     ]
    },
    {
     "data": {
      "text/plain": [
       "{'reasons': {'count': 0,\n",
       "  'items': [{'summary': 'This spot is popular',\n",
       "    'type': 'general',\n",
       "    'reasonName': 'globalInteractionReason'}]},\n",
       " 'venue': {'id': '5d5f24ec09484500079aee00',\n",
       "  'name': 'Los Tacos No. 1',\n",
       "  'location': {'address': '136 Church St',\n",
       "   'lat': 40.714267,\n",
       "   'lng': -74.008756,\n",
       "   'labeledLatLngs': [{'label': 'display',\n",
       "     'lat': 40.714267,\n",
       "     'lng': -74.008756}],\n",
       "   'distance': 119,\n",
       "   'postalCode': '10007',\n",
       "   'cc': 'US',\n",
       "   'city': 'New York',\n",
       "   'state': 'NY',\n",
       "   'country': 'United States',\n",
       "   'formattedAddress': ['136 Church St',\n",
       "    'New York, NY 10007',\n",
       "    'United States']},\n",
       "  'categories': [{'id': '4bf58dd8d48988d151941735',\n",
       "    'name': 'Taco Place',\n",
       "    'pluralName': 'Taco Places',\n",
       "    'shortName': 'Tacos',\n",
       "    'icon': {'prefix': 'https://ss3.4sqi.net/img/categories_v2/food/taco_',\n",
       "     'suffix': '.png'},\n",
       "    'primary': True}],\n",
       "  'delivery': {'id': '2180700',\n",
       "   'url': 'https://www.seamless.com/menu/los-tacos-no-1-tribeca-136-church-st-new-york/2180700?affiliate=1131&utm_source=foursquare-affiliate-network&utm_medium=affiliate&utm_campaign=1131&utm_content=2180700',\n",
       "   'provider': {'name': 'seamless',\n",
       "    'icon': {'prefix': 'https://fastly.4sqi.net/img/general/cap/',\n",
       "     'sizes': [40, 50],\n",
       "     'name': '/delivery_provider_seamless_20180129.png'}}},\n",
       "  'photos': {'count': 0, 'groups': []}},\n",
       " 'referralId': 'e-0-5d5f24ec09484500079aee00-0'}"
      ]
     },
     "execution_count": 49,
     "metadata": {},
     "output_type": "execute_result"
    }
   ],
   "source": [
    "items_pop = results_pop['response']['groups'][0]['items']\n",
    "print(type(items_pop))\n",
    "print()\n",
    "items_pop[0]"
   ]
  },
  {
   "cell_type": "markdown",
   "metadata": {
    "button": false,
    "new_sheet": false,
    "run_control": {
     "read_only": false
    }
   },
   "source": [
    "#### Process JSON and convert it into a Clean Dataframe (with only relevant Data):"
   ]
  },
  {
   "cell_type": "code",
   "execution_count": 51,
   "metadata": {
    "button": false,
    "collapsed": false,
    "jupyter": {
     "outputs_hidden": false
    },
    "new_sheet": false,
    "run_control": {
     "read_only": false
    }
   },
   "outputs": [
    {
     "data": {
      "text/html": [
       "<div>\n",
       "<style scoped>\n",
       "    .dataframe tbody tr th:only-of-type {\n",
       "        vertical-align: middle;\n",
       "    }\n",
       "\n",
       "    .dataframe tbody tr th {\n",
       "        vertical-align: top;\n",
       "    }\n",
       "\n",
       "    .dataframe thead th {\n",
       "        text-align: right;\n",
       "    }\n",
       "</style>\n",
       "<table border=\"1\" class=\"dataframe\">\n",
       "  <thead>\n",
       "    <tr style=\"text-align: right;\">\n",
       "      <th></th>\n",
       "      <th>name</th>\n",
       "      <th>categories</th>\n",
       "      <th>address</th>\n",
       "      <th>lat</th>\n",
       "      <th>lng</th>\n",
       "      <th>labeledLatLngs</th>\n",
       "      <th>distance</th>\n",
       "      <th>postalCode</th>\n",
       "      <th>cc</th>\n",
       "      <th>city</th>\n",
       "      <th>state</th>\n",
       "      <th>country</th>\n",
       "      <th>formattedAddress</th>\n",
       "      <th>crossStreet</th>\n",
       "      <th>neighborhood</th>\n",
       "      <th>id</th>\n",
       "    </tr>\n",
       "  </thead>\n",
       "  <tbody>\n",
       "    <tr>\n",
       "      <th>0</th>\n",
       "      <td>Los Tacos No. 1</td>\n",
       "      <td>Taco Place</td>\n",
       "      <td>136 Church St</td>\n",
       "      <td>40.714267</td>\n",
       "      <td>-74.008756</td>\n",
       "      <td>[{'label': 'display', 'lat': 40.714267, 'lng': -74.008756}]</td>\n",
       "      <td>119</td>\n",
       "      <td>10007</td>\n",
       "      <td>US</td>\n",
       "      <td>New York</td>\n",
       "      <td>NY</td>\n",
       "      <td>United States</td>\n",
       "      <td>[136 Church St, New York, NY 10007, United States]</td>\n",
       "      <td>NaN</td>\n",
       "      <td>NaN</td>\n",
       "      <td>5d5f24ec09484500079aee00</td>\n",
       "    </tr>\n",
       "    <tr>\n",
       "      <th>1</th>\n",
       "      <td>Korin</td>\n",
       "      <td>Furniture / Home Store</td>\n",
       "      <td>57 Warren St</td>\n",
       "      <td>40.714824</td>\n",
       "      <td>-74.009404</td>\n",
       "      <td>[{'label': 'display', 'lat': 40.71482437714839, 'lng': -74.00940425461492}, {'label': 'entrance', 'lat': 40.714727, 'lng': -74.009399}]</td>\n",
       "      <td>73</td>\n",
       "      <td>10007</td>\n",
       "      <td>US</td>\n",
       "      <td>New York</td>\n",
       "      <td>NY</td>\n",
       "      <td>United States</td>\n",
       "      <td>[57 Warren St (Church St), New York, NY 10007, United States]</td>\n",
       "      <td>Church St</td>\n",
       "      <td>Tribeca</td>\n",
       "      <td>4af5d65ff964a52091fd21e3</td>\n",
       "    </tr>\n",
       "    <tr>\n",
       "      <th>2</th>\n",
       "      <td>Juice Press</td>\n",
       "      <td>Vegetarian / Vegan Restaurant</td>\n",
       "      <td>83 Murray St</td>\n",
       "      <td>40.714788</td>\n",
       "      <td>-74.011132</td>\n",
       "      <td>[{'label': 'display', 'lat': 40.71478769908051, 'lng': -74.0111317502157}]</td>\n",
       "      <td>202</td>\n",
       "      <td>10007</td>\n",
       "      <td>US</td>\n",
       "      <td>New York</td>\n",
       "      <td>NY</td>\n",
       "      <td>United States</td>\n",
       "      <td>[83 Murray St (btwn Greenwich St &amp; W Broadway), New York, NY 10007, United States]</td>\n",
       "      <td>btwn Greenwich St &amp; W Broadway</td>\n",
       "      <td>NaN</td>\n",
       "      <td>54148bc6498ea7bb8c05b70a</td>\n",
       "    </tr>\n",
       "    <tr>\n",
       "      <th>3</th>\n",
       "      <td>Takahachi Bakery</td>\n",
       "      <td>Bakery</td>\n",
       "      <td>25 Murray St</td>\n",
       "      <td>40.713653</td>\n",
       "      <td>-74.008804</td>\n",
       "      <td>[{'label': 'display', 'lat': 40.713652845301894, 'lng': -74.0088038953017}, {'label': 'entrance', 'lat': 40.713716, 'lng': -74.008443}]</td>\n",
       "      <td>187</td>\n",
       "      <td>10007</td>\n",
       "      <td>US</td>\n",
       "      <td>New York</td>\n",
       "      <td>NY</td>\n",
       "      <td>United States</td>\n",
       "      <td>[25 Murray St (at Church St), New York, NY 10007, United States]</td>\n",
       "      <td>at Church St</td>\n",
       "      <td>NaN</td>\n",
       "      <td>4c154c9a77cea593c401d260</td>\n",
       "    </tr>\n",
       "    <tr>\n",
       "      <th>4</th>\n",
       "      <td>Takahachi</td>\n",
       "      <td>Sushi Restaurant</td>\n",
       "      <td>145 Duane St</td>\n",
       "      <td>40.716526</td>\n",
       "      <td>-74.008101</td>\n",
       "      <td>[{'label': 'display', 'lat': 40.71652647412374, 'lng': -74.00810108466207}, {'label': 'entrance', 'lat': 40.716508, 'lng': -74.007989}]</td>\n",
       "      <td>146</td>\n",
       "      <td>10013</td>\n",
       "      <td>US</td>\n",
       "      <td>New York</td>\n",
       "      <td>NY</td>\n",
       "      <td>United States</td>\n",
       "      <td>[145 Duane St (btwn W Broadway &amp; Church St), New York, NY 10013, United States]</td>\n",
       "      <td>btwn W Broadway &amp; Church St</td>\n",
       "      <td>NaN</td>\n",
       "      <td>4a8f2f39f964a520471420e3</td>\n",
       "    </tr>\n",
       "  </tbody>\n",
       "</table>\n",
       "</div>"
      ],
      "text/plain": [
       "               name                     categories        address        lat  \\\n",
       "0   Los Tacos No. 1                     Taco Place  136 Church St  40.714267   \n",
       "1             Korin         Furniture / Home Store   57 Warren St  40.714824   \n",
       "2       Juice Press  Vegetarian / Vegan Restaurant   83 Murray St  40.714788   \n",
       "3  Takahachi Bakery                         Bakery   25 Murray St  40.713653   \n",
       "4         Takahachi               Sushi Restaurant   145 Duane St  40.716526   \n",
       "\n",
       "         lng  \\\n",
       "0 -74.008756   \n",
       "1 -74.009404   \n",
       "2 -74.011132   \n",
       "3 -74.008804   \n",
       "4 -74.008101   \n",
       "\n",
       "                                                                                                                            labeledLatLngs  \\\n",
       "0                                                                              [{'label': 'display', 'lat': 40.714267, 'lng': -74.008756}]   \n",
       "1  [{'label': 'display', 'lat': 40.71482437714839, 'lng': -74.00940425461492}, {'label': 'entrance', 'lat': 40.714727, 'lng': -74.009399}]   \n",
       "2                                                               [{'label': 'display', 'lat': 40.71478769908051, 'lng': -74.0111317502157}]   \n",
       "3  [{'label': 'display', 'lat': 40.713652845301894, 'lng': -74.0088038953017}, {'label': 'entrance', 'lat': 40.713716, 'lng': -74.008443}]   \n",
       "4  [{'label': 'display', 'lat': 40.71652647412374, 'lng': -74.00810108466207}, {'label': 'entrance', 'lat': 40.716508, 'lng': -74.007989}]   \n",
       "\n",
       "   distance postalCode  cc      city state        country  \\\n",
       "0       119      10007  US  New York    NY  United States   \n",
       "1        73      10007  US  New York    NY  United States   \n",
       "2       202      10007  US  New York    NY  United States   \n",
       "3       187      10007  US  New York    NY  United States   \n",
       "4       146      10013  US  New York    NY  United States   \n",
       "\n",
       "                                                                     formattedAddress  \\\n",
       "0                                  [136 Church St, New York, NY 10007, United States]   \n",
       "1                       [57 Warren St (Church St), New York, NY 10007, United States]   \n",
       "2  [83 Murray St (btwn Greenwich St & W Broadway), New York, NY 10007, United States]   \n",
       "3                    [25 Murray St (at Church St), New York, NY 10007, United States]   \n",
       "4     [145 Duane St (btwn W Broadway & Church St), New York, NY 10013, United States]   \n",
       "\n",
       "                      crossStreet neighborhood                        id  \n",
       "0                             NaN          NaN  5d5f24ec09484500079aee00  \n",
       "1                       Church St      Tribeca  4af5d65ff964a52091fd21e3  \n",
       "2  btwn Greenwich St & W Broadway          NaN  54148bc6498ea7bb8c05b70a  \n",
       "3                    at Church St          NaN  4c154c9a77cea593c401d260  \n",
       "4     btwn W Broadway & Church St          NaN  4a8f2f39f964a520471420e3  "
      ]
     },
     "execution_count": 51,
     "metadata": {},
     "output_type": "execute_result"
    }
   ],
   "source": [
    "dataframe_pop = pd.json_normalize(items_pop) # flatten JSON\n",
    "\n",
    "# filter columns\n",
    "filtered_columns = ['venue.name', 'venue.categories'] + [col for col in dataframe_pop.columns if col.startswith('venue.location.')] + ['venue.id']\n",
    "dataframe_filtered = dataframe_pop.loc[:, filtered_columns]\n",
    "\n",
    "# filter the category for each row\n",
    "dataframe_filtered['venue.categories'] = dataframe_filtered.apply(get_category_type, axis=1)\n",
    "\n",
    "# clean columns\n",
    "dataframe_filtered.columns = [col.split('.')[-1] for col in dataframe_filtered.columns]\n",
    "\n",
    "dataframe_filtered.head()"
   ]
  },
  {
   "cell_type": "code",
   "execution_count": 54,
   "metadata": {},
   "outputs": [
    {
     "data": {
      "text/plain": [
       "(30, 16)"
      ]
     },
     "execution_count": 54,
     "metadata": {},
     "output_type": "execute_result"
    }
   ],
   "source": [
    "dataframe_filtered.shape"
   ]
  },
  {
   "cell_type": "markdown",
   "metadata": {
    "button": false,
    "new_sheet": false,
    "run_control": {
     "read_only": false
    }
   },
   "source": [
    "#### Let's visualize these items on the Map around our Location (Ecco Restaurant):"
   ]
  },
  {
   "cell_type": "code",
   "execution_count": 52,
   "metadata": {
    "button": false,
    "collapsed": false,
    "jupyter": {
     "outputs_hidden": false
    },
    "new_sheet": false,
    "run_control": {
     "read_only": false
    },
    "scrolled": true
   },
   "outputs": [
    {
     "data": {
      "text/html": [
       "<div style=\"width:100%;\"><div style=\"position:relative;width:100%;height:0;padding-bottom:60%;\"><span style=\"color:#565656\">Make this Notebook Trusted to load map: File -> Trust Notebook</span><iframe src=\"about:blank\" style=\"position:absolute;width:100%;height:100%;left:0;top:0;border:none !important;\" data-html=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 onload=\"this.contentDocument.open();this.contentDocument.write(atob(this.getAttribute('data-html')));this.contentDocument.close();\" allowfullscreen webkitallowfullscreen mozallowfullscreen></iframe></div></div>"
      ],
      "text/plain": [
       "<folium.folium.Map at 0x7fccf0625160>"
      ]
     },
     "execution_count": 52,
     "metadata": {},
     "output_type": "execute_result"
    }
   ],
   "source": [
    "venues_map_pop = folium.Map(location=[latitude_ecco, longitude_ecco], zoom_start=15) # generate map centred around Ecco\n",
    "\n",
    "\n",
    "# add Ecco as a red circle mark\n",
    "folium.CircleMarker(\n",
    "    [latitude_ecco, longitude_ecco],\n",
    "    radius=10,\n",
    "    popup='Ecco Restaurant',\n",
    "    fill=True,\n",
    "    color='red',\n",
    "    fill_color='red',\n",
    "    fill_opacity=0.6\n",
    "    ).add_to(venues_map_pop)\n",
    "\n",
    "\n",
    "# add popular spots to the map as blue circle markers\n",
    "for lat, lng, label in zip(dataframe_filtered.lat, dataframe_filtered.lng, dataframe_filtered.categories):\n",
    "    folium.CircleMarker(\n",
    "        [lat, lng],\n",
    "        radius=5,\n",
    "        popup=label,\n",
    "        fill=True,\n",
    "        color='blue',\n",
    "        fill_color='blue',\n",
    "        fill_opacity=0.6\n",
    "        ).add_to(venues_map_pop)\n",
    "\n",
    "# display map\n",
    "venues_map_pop"
   ]
  },
  {
   "cell_type": "markdown",
   "metadata": {
    "button": false,
    "new_sheet": false,
    "run_control": {
     "read_only": false
    }
   },
   "source": [
    "\n"
   ]
  },
  {
   "cell_type": "markdown",
   "metadata": {
    "button": false,
    "new_sheet": false,
    "run_control": {
     "read_only": false
    }
   },
   "source": [
    "<a id=\"item5\"></a>\n"
   ]
  },
  {
   "cell_type": "markdown",
   "metadata": {
    "button": false,
    "new_sheet": false,
    "run_control": {
     "read_only": false
    }
   },
   "source": [
    "## 5. Explore Trending Venues\n",
    "\n",
    "> `https://api.foursquare.com/v2/venues/`**trending**`?client_id=`**CLIENT_ID**`&client_secret=`**CLIENT_SECRET**`&ll=`**LATITUDE**`,`**LONGITUDE**`&v=`**VERSION**\n"
   ]
  },
  {
   "cell_type": "markdown",
   "metadata": {
    "button": false,
    "new_sheet": false,
    "run_control": {
     "read_only": false
    }
   },
   "source": [
    "#### Now, instead of simply exploring the area around Ecco, you are interested in knowing the venues that are trending at the time you are done with your lunch, meaning the places with the highest foot traffic. So let's do that and get the trending venues around Ecco.\n"
   ]
  },
  {
   "cell_type": "code",
   "execution_count": 55,
   "metadata": {
    "button": false,
    "collapsed": false,
    "jupyter": {
     "outputs_hidden": false
    },
    "new_sheet": false,
    "run_control": {
     "read_only": false
    }
   },
   "outputs": [
    {
     "data": {
      "text/plain": [
       "{'meta': {'code': 200, 'requestId': '5fbfb7ca66ba7a282ba34e97'},\n",
       " 'response': {'venues': []}}"
      ]
     },
     "execution_count": 55,
     "metadata": {},
     "output_type": "execute_result"
    }
   ],
   "source": [
    "# define URL\n",
    "url_trend = 'https://api.foursquare.com/v2/venues/trending?client_id={}&client_secret={}&ll={},{}&v={}'.format(CLIENT_ID, CLIENT_SECRET, latitude_ecco, longitude_ecco, VERSION)\n",
    "\n",
    "# send GET request and get trending venues\n",
    "results_trend = requests.get(url_trend).json()\n",
    "results_trend"
   ]
  },
  {
   "cell_type": "markdown",
   "metadata": {
    "button": false,
    "new_sheet": false,
    "run_control": {
     "read_only": false
    }
   },
   "source": [
    "### Check if any venues are trending at this time\n"
   ]
  },
  {
   "cell_type": "code",
   "execution_count": 62,
   "metadata": {
    "button": false,
    "new_sheet": false,
    "run_control": {
     "read_only": false
    }
   },
   "outputs": [],
   "source": [
    "if len(results_trend['response']['venues']) == 0:\n",
    "    trending_venues_df = 'No trending venues are available at the moment!. Year 2020 - The Year of Pandemics....'\n",
    "    \n",
    "else:\n",
    "    trending_venues = results_trend['response']['venues']\n",
    "    trending_venues_df = pd.json_normalize(trending_venues)\n",
    "\n",
    "    # filter columns\n",
    "    columns_filtered = ['name', 'categories'] + ['location.distance', 'location.city', 'location.postalCode', 'location.state', 'location.country', 'location.lat', 'location.lng']\n",
    "    trending_venues_df = trending_venues_df.loc[:, columns_filtered]\n",
    "\n",
    "    # filter the category for each row\n",
    "    trending_venues_df['categories'] = trending_venues_df.apply(get_category_type, axis=1)"
   ]
  },
  {
   "cell_type": "code",
   "execution_count": 63,
   "metadata": {
    "button": false,
    "collapsed": false,
    "jupyter": {
     "outputs_hidden": false
    },
    "new_sheet": false,
    "run_control": {
     "read_only": false
    }
   },
   "outputs": [
    {
     "data": {
      "text/plain": [
       "'No trending venues are available at the moment!. Year 2020 - The Year of Pandemics....'"
      ]
     },
     "execution_count": 63,
     "metadata": {},
     "output_type": "execute_result"
    }
   ],
   "source": [
    "# display trending venues\n",
    "trending_venues_df"
   ]
  },
  {
   "cell_type": "code",
   "execution_count": 66,
   "metadata": {},
   "outputs": [
    {
     "ename": "AttributeError",
     "evalue": "'str' object has no attribute 'head'",
     "output_type": "error",
     "traceback": [
      "\u001b[0;31m---------------------------------------------------------------------------\u001b[0m",
      "\u001b[0;31mAttributeError\u001b[0m                            Traceback (most recent call last)",
      "\u001b[0;32m<ipython-input-66-007eb5767d8c>\u001b[0m in \u001b[0;36m<module>\u001b[0;34m\u001b[0m\n\u001b[0;32m----> 1\u001b[0;31m \u001b[0mtrending_venues_df\u001b[0m\u001b[0;34m.\u001b[0m\u001b[0mhead\u001b[0m\u001b[0;34m\u001b[0m\u001b[0;34m\u001b[0m\u001b[0m\n\u001b[0m",
      "\u001b[0;31mAttributeError\u001b[0m: 'str' object has no attribute 'head'"
     ]
    }
   ],
   "source": [
    "trending_venues_df.head"
   ]
  },
  {
   "cell_type": "markdown",
   "metadata": {
    "button": false,
    "new_sheet": false,
    "run_control": {
     "read_only": false
    }
   },
   "source": [
    "**NOTES:** \\\n",
    "1) Now, depending on when you run the above code, you might get different venues since the venues with the highest foot traffic are fetched live. \\\n",
    "2) I left the last error-message (pink block) to show that 'trending_venues_df' is a variable to which two different types can be cast:  'string' if there isn't any trending spots or 'pandas dataframe' if there is at least one trending place. A 'string'-type does  not show any 'head'."
   ]
  },
  {
   "cell_type": "markdown",
   "metadata": {
    "button": false,
    "new_sheet": false,
    "run_control": {
     "read_only": false
    }
   },
   "source": [
    "### Visualize trending venues\n"
   ]
  },
  {
   "cell_type": "code",
   "execution_count": 64,
   "metadata": {
    "button": false,
    "collapsed": false,
    "jupyter": {
     "outputs_hidden": false
    },
    "new_sheet": false,
    "run_control": {
     "read_only": false
    }
   },
   "outputs": [],
   "source": [
    "if len(results_trend['response']['venues']) == 0:\n",
    "    venues_map_trend = 'Cannot generate visual as no trending venues are available at the moment!'\n",
    "\n",
    "else:\n",
    "    venues_map_trend = folium.Map(location=[latitude_ecco, longitude_ecco], zoom_start=15) # generate map centred around Ecco\n",
    "\n",
    "\n",
    "    # add Ecco as a red circle mark\n",
    "    folium.CircleMarker(\n",
    "        [latitude_ecco, longitude_ecco],\n",
    "        radius=10,\n",
    "        popup='Ecco Restaurant',\n",
    "        fill=True,\n",
    "        color='red',\n",
    "        fill_color='red',\n",
    "        fill_opacity=0.6\n",
    "    ).add_to(venues_map_trend)\n",
    "\n",
    "\n",
    "    # add the trending venues as blue circle markers\n",
    "    for lat, lng, label in zip(trending_venues_df['location.lat'], trending_venues_df['location.lng'], trending_venues_df['name']):\n",
    "        folium.CircleMarker(\n",
    "            [lat, lng],\n",
    "            radius=5,\n",
    "            poup=label,\n",
    "            fill=True,\n",
    "            color='blue',\n",
    "            fill_color='blue',\n",
    "            fill_opacity=0.6\n",
    "        ).add_to(venues_map_trend)"
   ]
  },
  {
   "cell_type": "code",
   "execution_count": 65,
   "metadata": {
    "button": false,
    "collapsed": false,
    "jupyter": {
     "outputs_hidden": false
    },
    "new_sheet": false,
    "run_control": {
     "read_only": false
    },
    "scrolled": true
   },
   "outputs": [
    {
     "data": {
      "text/plain": [
       "'Cannot generate visual as no trending venues are available at the moment!'"
      ]
     },
     "execution_count": 65,
     "metadata": {},
     "output_type": "execute_result"
    }
   ],
   "source": [
    "# display map\n",
    "venues_map_trend"
   ]
  },
  {
   "cell_type": "markdown",
   "metadata": {
    "button": false,
    "new_sheet": false,
    "run_control": {
     "read_only": false
    }
   },
   "source": [
    "<a id=\"item6\"></a>\n"
   ]
  },
  {
   "cell_type": "markdown",
   "metadata": {
    "button": false,
    "new_sheet": false,
    "run_control": {
     "read_only": false
    }
   },
   "source": [
    "\n"
   ]
  },
  {
   "cell_type": "markdown",
   "metadata": {
    "button": false,
    "new_sheet": false,
    "run_control": {
     "read_only": false
    }
   },
   "source": [
    "### Thank you for completing this lab!\n",
    "\n",
    "This notebook was created by [Alex Aklson](https://www.linkedin.com/in/aklson?cm_mmc=Email_Newsletter-_-Developer_Ed%2BTech-_-WW_WW-_-SkillsNetwork-Courses-IBMDeveloperSkillsNetwork-DS0701EN-SkillsNetwork-21253531&cm_mmca1=000026UJ&cm_mmca2=10006555&cm_mmca3=M12345678&cvosrc=email.Newsletter.M12345678&cvo_campaign=000026UJ&cm_mmc=Email_Newsletter-_-Developer_Ed%2BTech-_-WW_WW-_-SkillsNetwork-Courses-IBMDeveloperSkillsNetwork-DS0701EN-SkillsNetwork-21253531&cm_mmca1=000026UJ&cm_mmca2=10006555&cm_mmca3=M12345678&cvosrc=email.Newsletter.M12345678&cvo_campaign=000026UJ). I hope you found this lab interesting and educational. Feel free to contact me if you have any questions!\n",
    "\n",
    "This notebook modified by Nayef Abou Tayoun ([https://www.linkedin.com/in/nayefaboutayoun/](https://www.linkedin.com/in/nayefaboutayoun?cm_mmc=Email_Newsletter-_-Developer_Ed%2BTech-_-WW_WW-_-SkillsNetwork-Courses-IBMDeveloperSkillsNetwork-DS0701EN-SkillsNetwork-21253531&cm_mmca1=000026UJ&cm_mmca2=10006555&cm_mmca3=M12345678&cvosrc=email.Newsletter.M12345678&cvo_campaign=000026UJ))\n"
   ]
  },
  {
   "cell_type": "markdown",
   "metadata": {
    "button": false,
    "new_sheet": false,
    "run_control": {
     "read_only": false
    }
   },
   "source": [
    "This notebook is part of a course on **Coursera** called _Applied Data Science Capstone_. If you accessed this notebook outside the course, you can take this course online by clicking [here](http://cocl.us/DP0701EN_Coursera_Week2_LAB1).\n"
   ]
  },
  {
   "cell_type": "markdown",
   "metadata": {
    "button": false,
    "new_sheet": false,
    "run_control": {
     "read_only": false
    }
   },
   "source": [
    "<hr>\n",
    "Copyright &copy; 2018 [Cognitive Class](https://cognitiveclass.ai/?utm_source=bducopyrightlink&utm_medium=dswb&utm_campaign=bdu). This notebook and its source code are released under the terms of the [MIT License](https://bigdatauniversity.com/mit-license/).\n"
   ]
  },
  {
   "cell_type": "code",
   "execution_count": null,
   "metadata": {},
   "outputs": [],
   "source": []
  }
 ],
 "metadata": {
  "kernelspec": {
   "display_name": "Python",
   "language": "python",
   "name": "conda-env-python-py"
  },
  "language_info": {
   "codemirror_mode": {
    "name": "ipython",
    "version": 3
   },
   "file_extension": ".py",
   "mimetype": "text/x-python",
   "name": "python",
   "nbconvert_exporter": "python",
   "pygments_lexer": "ipython3",
   "version": "3.6.11"
  },
  "widgets": {
   "state": {},
   "version": "1.1.2"
  }
 },
 "nbformat": 4,
 "nbformat_minor": 4
}
